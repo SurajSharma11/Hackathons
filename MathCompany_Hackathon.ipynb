{
 "cells": [
  {
   "cell_type": "code",
   "execution_count": 1,
   "id": "65380de5",
   "metadata": {},
   "outputs": [],
   "source": [
    "# Import required libraries\n",
    "\n",
    "import pandas as pd\n",
    "import numpy as np\n",
    "from scipy import stats\n",
    "\n",
    "import seaborn as sns\n",
    "import matplotlib.pyplot as plt\n",
    "\n",
    "%matplotlib inline"
   ]
  },
  {
   "cell_type": "code",
   "execution_count": 2,
   "id": "6c33447d",
   "metadata": {},
   "outputs": [
    {
     "data": {
      "text/html": [
       "<div>\n",
       "<style scoped>\n",
       "    .dataframe tbody tr th:only-of-type {\n",
       "        vertical-align: middle;\n",
       "    }\n",
       "\n",
       "    .dataframe tbody tr th {\n",
       "        vertical-align: top;\n",
       "    }\n",
       "\n",
       "    .dataframe thead th {\n",
       "        text-align: right;\n",
       "    }\n",
       "</style>\n",
       "<table border=\"1\" class=\"dataframe\">\n",
       "  <thead>\n",
       "    <tr style=\"text-align: right;\">\n",
       "      <th></th>\n",
       "      <th>ID</th>\n",
       "      <th>Price</th>\n",
       "      <th>Levy</th>\n",
       "      <th>Manufacturer</th>\n",
       "      <th>Model</th>\n",
       "      <th>Prod. year</th>\n",
       "      <th>Category</th>\n",
       "      <th>Leather interior</th>\n",
       "      <th>Fuel type</th>\n",
       "      <th>Engine volume</th>\n",
       "      <th>Mileage</th>\n",
       "      <th>Cylinders</th>\n",
       "      <th>Gear box type</th>\n",
       "      <th>Drive wheels</th>\n",
       "      <th>Doors</th>\n",
       "      <th>Wheel</th>\n",
       "      <th>Color</th>\n",
       "      <th>Airbags</th>\n",
       "    </tr>\n",
       "  </thead>\n",
       "  <tbody>\n",
       "    <tr>\n",
       "      <th>0</th>\n",
       "      <td>45654403</td>\n",
       "      <td>13328</td>\n",
       "      <td>1399</td>\n",
       "      <td>LEXUS</td>\n",
       "      <td>RX 450</td>\n",
       "      <td>2010</td>\n",
       "      <td>Jeep</td>\n",
       "      <td>Yes</td>\n",
       "      <td>Hybrid</td>\n",
       "      <td>3.5</td>\n",
       "      <td>186005 km</td>\n",
       "      <td>6.0</td>\n",
       "      <td>Automatic</td>\n",
       "      <td>4x4</td>\n",
       "      <td>04-May</td>\n",
       "      <td>Left wheel</td>\n",
       "      <td>Silver</td>\n",
       "      <td>12</td>\n",
       "    </tr>\n",
       "    <tr>\n",
       "      <th>1</th>\n",
       "      <td>44731507</td>\n",
       "      <td>16621</td>\n",
       "      <td>1018</td>\n",
       "      <td>CHEVROLET</td>\n",
       "      <td>Equinox</td>\n",
       "      <td>2011</td>\n",
       "      <td>Jeep</td>\n",
       "      <td>No</td>\n",
       "      <td>Petrol</td>\n",
       "      <td>3</td>\n",
       "      <td>192000 km</td>\n",
       "      <td>6.0</td>\n",
       "      <td>Tiptronic</td>\n",
       "      <td>4x4</td>\n",
       "      <td>04-May</td>\n",
       "      <td>Left wheel</td>\n",
       "      <td>Black</td>\n",
       "      <td>8</td>\n",
       "    </tr>\n",
       "    <tr>\n",
       "      <th>2</th>\n",
       "      <td>45774419</td>\n",
       "      <td>8467</td>\n",
       "      <td>-</td>\n",
       "      <td>HONDA</td>\n",
       "      <td>FIT</td>\n",
       "      <td>2006</td>\n",
       "      <td>Hatchback</td>\n",
       "      <td>No</td>\n",
       "      <td>Petrol</td>\n",
       "      <td>1.3</td>\n",
       "      <td>200000 km</td>\n",
       "      <td>4.0</td>\n",
       "      <td>Variator</td>\n",
       "      <td>Front</td>\n",
       "      <td>04-May</td>\n",
       "      <td>Right-hand drive</td>\n",
       "      <td>Black</td>\n",
       "      <td>2</td>\n",
       "    </tr>\n",
       "    <tr>\n",
       "      <th>3</th>\n",
       "      <td>45769185</td>\n",
       "      <td>3607</td>\n",
       "      <td>862</td>\n",
       "      <td>FORD</td>\n",
       "      <td>Escape</td>\n",
       "      <td>2011</td>\n",
       "      <td>Jeep</td>\n",
       "      <td>Yes</td>\n",
       "      <td>Hybrid</td>\n",
       "      <td>2.5</td>\n",
       "      <td>168966 km</td>\n",
       "      <td>4.0</td>\n",
       "      <td>Automatic</td>\n",
       "      <td>4x4</td>\n",
       "      <td>04-May</td>\n",
       "      <td>Left wheel</td>\n",
       "      <td>White</td>\n",
       "      <td>0</td>\n",
       "    </tr>\n",
       "    <tr>\n",
       "      <th>4</th>\n",
       "      <td>45809263</td>\n",
       "      <td>11726</td>\n",
       "      <td>446</td>\n",
       "      <td>HONDA</td>\n",
       "      <td>FIT</td>\n",
       "      <td>2014</td>\n",
       "      <td>Hatchback</td>\n",
       "      <td>Yes</td>\n",
       "      <td>Petrol</td>\n",
       "      <td>1.3</td>\n",
       "      <td>91901 km</td>\n",
       "      <td>4.0</td>\n",
       "      <td>Automatic</td>\n",
       "      <td>Front</td>\n",
       "      <td>04-May</td>\n",
       "      <td>Left wheel</td>\n",
       "      <td>Silver</td>\n",
       "      <td>4</td>\n",
       "    </tr>\n",
       "  </tbody>\n",
       "</table>\n",
       "</div>"
      ],
      "text/plain": [
       "         ID  Price  Levy Manufacturer    Model  Prod. year   Category  \\\n",
       "0  45654403  13328  1399        LEXUS   RX 450        2010       Jeep   \n",
       "1  44731507  16621  1018    CHEVROLET  Equinox        2011       Jeep   \n",
       "2  45774419   8467     -        HONDA      FIT        2006  Hatchback   \n",
       "3  45769185   3607   862         FORD   Escape        2011       Jeep   \n",
       "4  45809263  11726   446        HONDA      FIT        2014  Hatchback   \n",
       "\n",
       "  Leather interior Fuel type Engine volume    Mileage  Cylinders  \\\n",
       "0              Yes    Hybrid           3.5  186005 km        6.0   \n",
       "1               No    Petrol             3  192000 km        6.0   \n",
       "2               No    Petrol           1.3  200000 km        4.0   \n",
       "3              Yes    Hybrid           2.5  168966 km        4.0   \n",
       "4              Yes    Petrol           1.3   91901 km        4.0   \n",
       "\n",
       "  Gear box type Drive wheels   Doors             Wheel   Color  Airbags  \n",
       "0     Automatic          4x4  04-May        Left wheel  Silver       12  \n",
       "1     Tiptronic          4x4  04-May        Left wheel   Black        8  \n",
       "2      Variator        Front  04-May  Right-hand drive   Black        2  \n",
       "3     Automatic          4x4  04-May        Left wheel   White        0  \n",
       "4     Automatic        Front  04-May        Left wheel  Silver        4  "
      ]
     },
     "execution_count": 2,
     "metadata": {},
     "output_type": "execute_result"
    }
   ],
   "source": [
    "# Read train and test data \n",
    "\n",
    "train_df = pd.read_csv(\"train.csv\")\n",
    "train_df.head()"
   ]
  },
  {
   "cell_type": "code",
   "execution_count": 3,
   "id": "7fca38b0",
   "metadata": {},
   "outputs": [
    {
     "data": {
      "text/html": [
       "<div>\n",
       "<style scoped>\n",
       "    .dataframe tbody tr th:only-of-type {\n",
       "        vertical-align: middle;\n",
       "    }\n",
       "\n",
       "    .dataframe tbody tr th {\n",
       "        vertical-align: top;\n",
       "    }\n",
       "\n",
       "    .dataframe thead th {\n",
       "        text-align: right;\n",
       "    }\n",
       "</style>\n",
       "<table border=\"1\" class=\"dataframe\">\n",
       "  <thead>\n",
       "    <tr style=\"text-align: right;\">\n",
       "      <th></th>\n",
       "      <th>ID</th>\n",
       "      <th>Levy</th>\n",
       "      <th>Manufacturer</th>\n",
       "      <th>Model</th>\n",
       "      <th>Prod. year</th>\n",
       "      <th>Category</th>\n",
       "      <th>Leather interior</th>\n",
       "      <th>Fuel type</th>\n",
       "      <th>Engine volume</th>\n",
       "      <th>Mileage</th>\n",
       "      <th>Cylinders</th>\n",
       "      <th>Gear box type</th>\n",
       "      <th>Drive wheels</th>\n",
       "      <th>Doors</th>\n",
       "      <th>Wheel</th>\n",
       "      <th>Color</th>\n",
       "      <th>Airbags</th>\n",
       "      <th>Price</th>\n",
       "    </tr>\n",
       "  </thead>\n",
       "  <tbody>\n",
       "    <tr>\n",
       "      <th>0</th>\n",
       "      <td>44020629</td>\n",
       "      <td>-</td>\n",
       "      <td>VOLKSWAGEN</td>\n",
       "      <td>Golf</td>\n",
       "      <td>2012</td>\n",
       "      <td>Hatchback</td>\n",
       "      <td>No</td>\n",
       "      <td>Diesel</td>\n",
       "      <td>2.0 Turbo</td>\n",
       "      <td>0 km</td>\n",
       "      <td>4</td>\n",
       "      <td>Manual</td>\n",
       "      <td>Front</td>\n",
       "      <td>02-Mar</td>\n",
       "      <td>Left wheel</td>\n",
       "      <td>Grey</td>\n",
       "      <td>10</td>\n",
       "      <td>NaN</td>\n",
       "    </tr>\n",
       "    <tr>\n",
       "      <th>1</th>\n",
       "      <td>45784798</td>\n",
       "      <td>-</td>\n",
       "      <td>HYUNDAI</td>\n",
       "      <td>Sonata</td>\n",
       "      <td>2012</td>\n",
       "      <td>Sedan</td>\n",
       "      <td>Yes</td>\n",
       "      <td>Petrol</td>\n",
       "      <td>2.4</td>\n",
       "      <td>26000 km</td>\n",
       "      <td>4</td>\n",
       "      <td>Tiptronic</td>\n",
       "      <td>Front</td>\n",
       "      <td>04-May</td>\n",
       "      <td>Left wheel</td>\n",
       "      <td>Grey</td>\n",
       "      <td>10</td>\n",
       "      <td>NaN</td>\n",
       "    </tr>\n",
       "    <tr>\n",
       "      <th>2</th>\n",
       "      <td>45800257</td>\n",
       "      <td>-</td>\n",
       "      <td>NISSAN</td>\n",
       "      <td>Tiida</td>\n",
       "      <td>2005</td>\n",
       "      <td>Sedan</td>\n",
       "      <td>No</td>\n",
       "      <td>Petrol</td>\n",
       "      <td>1.5</td>\n",
       "      <td>168000 km</td>\n",
       "      <td>4</td>\n",
       "      <td>Automatic</td>\n",
       "      <td>Front</td>\n",
       "      <td>04-May</td>\n",
       "      <td>Right-hand drive</td>\n",
       "      <td>Sky blue</td>\n",
       "      <td>8</td>\n",
       "      <td>NaN</td>\n",
       "    </tr>\n",
       "    <tr>\n",
       "      <th>3</th>\n",
       "      <td>45797981</td>\n",
       "      <td>975</td>\n",
       "      <td>VOLVO</td>\n",
       "      <td>XC90</td>\n",
       "      <td>2012</td>\n",
       "      <td>Jeep</td>\n",
       "      <td>Yes</td>\n",
       "      <td>Petrol</td>\n",
       "      <td>3.2</td>\n",
       "      <td>143000 km</td>\n",
       "      <td>6</td>\n",
       "      <td>Automatic</td>\n",
       "      <td>4x4</td>\n",
       "      <td>04-May</td>\n",
       "      <td>Left wheel</td>\n",
       "      <td>Blue</td>\n",
       "      <td>12</td>\n",
       "      <td>NaN</td>\n",
       "    </tr>\n",
       "    <tr>\n",
       "      <th>4</th>\n",
       "      <td>45814303</td>\n",
       "      <td>-</td>\n",
       "      <td>OPEL</td>\n",
       "      <td>Astra</td>\n",
       "      <td>1993</td>\n",
       "      <td>Hatchback</td>\n",
       "      <td>No</td>\n",
       "      <td>Petrol</td>\n",
       "      <td>1.6</td>\n",
       "      <td>200000 km</td>\n",
       "      <td>4</td>\n",
       "      <td>Manual</td>\n",
       "      <td>Front</td>\n",
       "      <td>04-May</td>\n",
       "      <td>Left wheel</td>\n",
       "      <td>Black</td>\n",
       "      <td>0</td>\n",
       "      <td>NaN</td>\n",
       "    </tr>\n",
       "  </tbody>\n",
       "</table>\n",
       "</div>"
      ],
      "text/plain": [
       "         ID Levy Manufacturer   Model  Prod. year   Category Leather interior  \\\n",
       "0  44020629    -   VOLKSWAGEN    Golf        2012  Hatchback               No   \n",
       "1  45784798    -      HYUNDAI  Sonata        2012      Sedan              Yes   \n",
       "2  45800257    -       NISSAN   Tiida        2005      Sedan               No   \n",
       "3  45797981  975        VOLVO    XC90        2012       Jeep              Yes   \n",
       "4  45814303    -         OPEL   Astra        1993  Hatchback               No   \n",
       "\n",
       "  Fuel type Engine volume    Mileage  Cylinders Gear box type Drive wheels  \\\n",
       "0    Diesel     2.0 Turbo       0 km          4        Manual        Front   \n",
       "1    Petrol           2.4   26000 km          4     Tiptronic        Front   \n",
       "2    Petrol           1.5  168000 km          4     Automatic        Front   \n",
       "3    Petrol           3.2  143000 km          6     Automatic          4x4   \n",
       "4    Petrol           1.6  200000 km          4        Manual        Front   \n",
       "\n",
       "    Doors             Wheel     Color  Airbags  Price  \n",
       "0  02-Mar        Left wheel      Grey       10    NaN  \n",
       "1  04-May        Left wheel      Grey       10    NaN  \n",
       "2  04-May  Right-hand drive  Sky blue        8    NaN  \n",
       "3  04-May        Left wheel      Blue       12    NaN  \n",
       "4  04-May        Left wheel     Black        0    NaN  "
      ]
     },
     "execution_count": 3,
     "metadata": {},
     "output_type": "execute_result"
    }
   ],
   "source": [
    "test_df = pd.read_csv(\"test.csv\")\n",
    "test_df.head()"
   ]
  },
  {
   "cell_type": "code",
   "execution_count": 4,
   "id": "f90e5e80",
   "metadata": {},
   "outputs": [],
   "source": [
    "# Replacing the value with 0 for the column 'Levy'\n",
    "\n",
    "train_df['Levy'].replace('-',0,inplace=True)\n",
    "test_df['Levy'].replace('-',0,inplace=True)"
   ]
  },
  {
   "cell_type": "code",
   "execution_count": 5,
   "id": "181b353b",
   "metadata": {},
   "outputs": [
    {
     "name": "stdout",
     "output_type": "stream",
     "text": [
      "The number of rows are 19237 and columns are 18 in the train dataset\n"
     ]
    }
   ],
   "source": [
    "print(\"The number of rows are {} and columns are {} in the train dataset\".format(train_df.shape[0],train_df.shape[1]))"
   ]
  },
  {
   "cell_type": "code",
   "execution_count": 6,
   "id": "fbfd60c9",
   "metadata": {},
   "outputs": [
    {
     "name": "stdout",
     "output_type": "stream",
     "text": [
      "The number of rows are 8245 and columns are 18 in the test dataset\n"
     ]
    }
   ],
   "source": [
    "print(\"The number of rows are {} and columns are {} in the test dataset\".format(test_df.shape[0],test_df.shape[1]))"
   ]
  },
  {
   "cell_type": "code",
   "execution_count": 7,
   "id": "430bb98f",
   "metadata": {},
   "outputs": [],
   "source": [
    "# del test_df['Price']"
   ]
  },
  {
   "cell_type": "code",
   "execution_count": 8,
   "id": "b56ef523",
   "metadata": {},
   "outputs": [
    {
     "name": "stdout",
     "output_type": "stream",
     "text": [
      "<class 'pandas.core.frame.DataFrame'>\n",
      "RangeIndex: 19237 entries, 0 to 19236\n",
      "Data columns (total 18 columns):\n",
      " #   Column            Non-Null Count  Dtype  \n",
      "---  ------            --------------  -----  \n",
      " 0   ID                19237 non-null  int64  \n",
      " 1   Price             19237 non-null  int64  \n",
      " 2   Levy              19237 non-null  object \n",
      " 3   Manufacturer      19237 non-null  object \n",
      " 4   Model             19237 non-null  object \n",
      " 5   Prod. year        19237 non-null  int64  \n",
      " 6   Category          19237 non-null  object \n",
      " 7   Leather interior  19237 non-null  object \n",
      " 8   Fuel type         19237 non-null  object \n",
      " 9   Engine volume     19237 non-null  object \n",
      " 10  Mileage           19237 non-null  object \n",
      " 11  Cylinders         19237 non-null  float64\n",
      " 12  Gear box type     19237 non-null  object \n",
      " 13  Drive wheels      19237 non-null  object \n",
      " 14  Doors             19237 non-null  object \n",
      " 15  Wheel             19237 non-null  object \n",
      " 16  Color             19237 non-null  object \n",
      " 17  Airbags           19237 non-null  int64  \n",
      "dtypes: float64(1), int64(4), object(13)\n",
      "memory usage: 2.6+ MB\n"
     ]
    }
   ],
   "source": [
    "# Meta information of the train dataset\n",
    "\n",
    "train_df.info()"
   ]
  },
  {
   "cell_type": "markdown",
   "id": "4ad12a6f",
   "metadata": {},
   "source": [
    "## Inference:\n",
    "\n",
    "1. **There are columns that are incorrect in their datatypes**\n",
    "- **`Engine Volume`**\n",
    "- **`Cylinders`**\n",
    "- **`Prod. year`**\n",
    "- **`Levy`**\n",
    "\n",
    "2. **The columns that require manipulations to correct their data types**\n",
    "- **`Mileage`**\n",
    "- **`Doors`**\n"
   ]
  },
  {
   "cell_type": "code",
   "execution_count": 9,
   "id": "73e851ae",
   "metadata": {},
   "outputs": [],
   "source": [
    "train_df['Mileage'] = train_df['Mileage'].apply(lambda x : x.split('km')[0])\n",
    "test_df['Mileage'] = test_df['Mileage'].apply(lambda x : x.split('km')[0])"
   ]
  },
  {
   "cell_type": "code",
   "execution_count": 10,
   "id": "94ac0586",
   "metadata": {},
   "outputs": [],
   "source": [
    "train_df['Doors'] = train_df['Doors'].apply(lambda x : x.split('-')[0])\n",
    "test_df['Doors'] = test_df['Doors'].apply(lambda x : x.split('-')[0])\n"
   ]
  },
  {
   "cell_type": "code",
   "execution_count": 11,
   "id": "252da727",
   "metadata": {},
   "outputs": [
    {
     "data": {
      "text/html": [
       "<div>\n",
       "<style scoped>\n",
       "    .dataframe tbody tr th:only-of-type {\n",
       "        vertical-align: middle;\n",
       "    }\n",
       "\n",
       "    .dataframe tbody tr th {\n",
       "        vertical-align: top;\n",
       "    }\n",
       "\n",
       "    .dataframe thead th {\n",
       "        text-align: right;\n",
       "    }\n",
       "</style>\n",
       "<table border=\"1\" class=\"dataframe\">\n",
       "  <thead>\n",
       "    <tr style=\"text-align: right;\">\n",
       "      <th></th>\n",
       "      <th>ID</th>\n",
       "      <th>Price</th>\n",
       "      <th>Levy</th>\n",
       "      <th>Manufacturer</th>\n",
       "      <th>Model</th>\n",
       "      <th>Prod. year</th>\n",
       "      <th>Category</th>\n",
       "      <th>Leather interior</th>\n",
       "      <th>Fuel type</th>\n",
       "      <th>Engine volume</th>\n",
       "      <th>Mileage</th>\n",
       "      <th>Cylinders</th>\n",
       "      <th>Gear box type</th>\n",
       "      <th>Drive wheels</th>\n",
       "      <th>Doors</th>\n",
       "      <th>Wheel</th>\n",
       "      <th>Color</th>\n",
       "      <th>Airbags</th>\n",
       "    </tr>\n",
       "  </thead>\n",
       "  <tbody>\n",
       "    <tr>\n",
       "      <th>0</th>\n",
       "      <td>45654403</td>\n",
       "      <td>13328</td>\n",
       "      <td>1399</td>\n",
       "      <td>LEXUS</td>\n",
       "      <td>RX 450</td>\n",
       "      <td>2010</td>\n",
       "      <td>Jeep</td>\n",
       "      <td>Yes</td>\n",
       "      <td>Hybrid</td>\n",
       "      <td>3.5</td>\n",
       "      <td>186005</td>\n",
       "      <td>6.0</td>\n",
       "      <td>Automatic</td>\n",
       "      <td>4x4</td>\n",
       "      <td>04</td>\n",
       "      <td>Left wheel</td>\n",
       "      <td>Silver</td>\n",
       "      <td>12</td>\n",
       "    </tr>\n",
       "    <tr>\n",
       "      <th>1</th>\n",
       "      <td>44731507</td>\n",
       "      <td>16621</td>\n",
       "      <td>1018</td>\n",
       "      <td>CHEVROLET</td>\n",
       "      <td>Equinox</td>\n",
       "      <td>2011</td>\n",
       "      <td>Jeep</td>\n",
       "      <td>No</td>\n",
       "      <td>Petrol</td>\n",
       "      <td>3</td>\n",
       "      <td>192000</td>\n",
       "      <td>6.0</td>\n",
       "      <td>Tiptronic</td>\n",
       "      <td>4x4</td>\n",
       "      <td>04</td>\n",
       "      <td>Left wheel</td>\n",
       "      <td>Black</td>\n",
       "      <td>8</td>\n",
       "    </tr>\n",
       "    <tr>\n",
       "      <th>2</th>\n",
       "      <td>45774419</td>\n",
       "      <td>8467</td>\n",
       "      <td>0</td>\n",
       "      <td>HONDA</td>\n",
       "      <td>FIT</td>\n",
       "      <td>2006</td>\n",
       "      <td>Hatchback</td>\n",
       "      <td>No</td>\n",
       "      <td>Petrol</td>\n",
       "      <td>1.3</td>\n",
       "      <td>200000</td>\n",
       "      <td>4.0</td>\n",
       "      <td>Variator</td>\n",
       "      <td>Front</td>\n",
       "      <td>04</td>\n",
       "      <td>Right-hand drive</td>\n",
       "      <td>Black</td>\n",
       "      <td>2</td>\n",
       "    </tr>\n",
       "    <tr>\n",
       "      <th>3</th>\n",
       "      <td>45769185</td>\n",
       "      <td>3607</td>\n",
       "      <td>862</td>\n",
       "      <td>FORD</td>\n",
       "      <td>Escape</td>\n",
       "      <td>2011</td>\n",
       "      <td>Jeep</td>\n",
       "      <td>Yes</td>\n",
       "      <td>Hybrid</td>\n",
       "      <td>2.5</td>\n",
       "      <td>168966</td>\n",
       "      <td>4.0</td>\n",
       "      <td>Automatic</td>\n",
       "      <td>4x4</td>\n",
       "      <td>04</td>\n",
       "      <td>Left wheel</td>\n",
       "      <td>White</td>\n",
       "      <td>0</td>\n",
       "    </tr>\n",
       "    <tr>\n",
       "      <th>4</th>\n",
       "      <td>45809263</td>\n",
       "      <td>11726</td>\n",
       "      <td>446</td>\n",
       "      <td>HONDA</td>\n",
       "      <td>FIT</td>\n",
       "      <td>2014</td>\n",
       "      <td>Hatchback</td>\n",
       "      <td>Yes</td>\n",
       "      <td>Petrol</td>\n",
       "      <td>1.3</td>\n",
       "      <td>91901</td>\n",
       "      <td>4.0</td>\n",
       "      <td>Automatic</td>\n",
       "      <td>Front</td>\n",
       "      <td>04</td>\n",
       "      <td>Left wheel</td>\n",
       "      <td>Silver</td>\n",
       "      <td>4</td>\n",
       "    </tr>\n",
       "  </tbody>\n",
       "</table>\n",
       "</div>"
      ],
      "text/plain": [
       "         ID  Price  Levy Manufacturer    Model  Prod. year   Category  \\\n",
       "0  45654403  13328  1399        LEXUS   RX 450        2010       Jeep   \n",
       "1  44731507  16621  1018    CHEVROLET  Equinox        2011       Jeep   \n",
       "2  45774419   8467     0        HONDA      FIT        2006  Hatchback   \n",
       "3  45769185   3607   862         FORD   Escape        2011       Jeep   \n",
       "4  45809263  11726   446        HONDA      FIT        2014  Hatchback   \n",
       "\n",
       "  Leather interior Fuel type Engine volume  Mileage  Cylinders Gear box type  \\\n",
       "0              Yes    Hybrid           3.5  186005         6.0     Automatic   \n",
       "1               No    Petrol             3  192000         6.0     Tiptronic   \n",
       "2               No    Petrol           1.3  200000         4.0      Variator   \n",
       "3              Yes    Hybrid           2.5  168966         4.0     Automatic   \n",
       "4              Yes    Petrol           1.3   91901         4.0     Automatic   \n",
       "\n",
       "  Drive wheels Doors             Wheel   Color  Airbags  \n",
       "0          4x4    04        Left wheel  Silver       12  \n",
       "1          4x4    04        Left wheel   Black        8  \n",
       "2        Front    04  Right-hand drive   Black        2  \n",
       "3          4x4    04        Left wheel   White        0  \n",
       "4        Front    04        Left wheel  Silver        4  "
      ]
     },
     "execution_count": 11,
     "metadata": {},
     "output_type": "execute_result"
    }
   ],
   "source": [
    "train_df.head()"
   ]
  },
  {
   "cell_type": "code",
   "execution_count": 12,
   "id": "8d9ca684",
   "metadata": {},
   "outputs": [
    {
     "name": "stderr",
     "output_type": "stream",
     "text": [
      "C:\\Users\\suraj\\anaconda3\\lib\\site-packages\\seaborn\\distributions.py:2557: FutureWarning: `distplot` is a deprecated function and will be removed in a future version. Please adapt your code to use either `displot` (a figure-level function with similar flexibility) or `histplot` (an axes-level function for histograms).\n",
      "  warnings.warn(msg, FutureWarning)\n"
     ]
    },
    {
     "data": {
      "image/png": "[encoded data removed]",
      "text/plain": [
       "<Figure size 1440x576 with 2 Axes>"
      ]
     },
     "metadata": {
      "needs_background": "light"
     },
     "output_type": "display_data"
    }
   ],
   "source": [
    "plt.figure(figsize=(20,8))\n",
    "\n",
    "plt.subplot(1,2,1)\n",
    "plt.title('Car Price Distribution Plot')\n",
    "sns.distplot(np.log1p(train_df.Price),hist=True)\n",
    "\n",
    "plt.subplot(1,2,2)\n",
    "plt.title('Car Price Spread')\n",
    "sns.boxplot(y=np.log1p(train_df.Price))\n",
    "\n",
    "plt.show()"
   ]
  },
  {
   "cell_type": "code",
   "execution_count": 13,
   "id": "ffdf0bb0",
   "metadata": {},
   "outputs": [],
   "source": [
    "# Applying log transformation on the 'Price', to normalise the distribution.\n",
    "\n",
    "#train_df['Price'] = np.log1p(train_df['Price'])"
   ]
  },
  {
   "cell_type": "code",
   "execution_count": 14,
   "id": "37aa09da",
   "metadata": {},
   "outputs": [
    {
     "name": "stdout",
     "output_type": "stream",
     "text": [
      "count    1.923700e+04\n",
      "mean     1.855593e+04\n",
      "std      1.905813e+05\n",
      "min      1.000000e+00\n",
      "25%      5.331000e+03\n",
      "50%      1.317200e+04\n",
      "75%      2.207500e+04\n",
      "85%      3.073400e+04\n",
      "90%      3.860900e+04\n",
      "100%     2.630750e+07\n",
      "max      2.630750e+07\n",
      "Name: Price, dtype: float64\n"
     ]
    }
   ],
   "source": [
    "print(train_df.Price.describe(percentiles = [0.25,0.50,0.75,0.85,0.90,1]))"
   ]
  },
  {
   "cell_type": "markdown",
   "id": "d0587148",
   "metadata": {},
   "source": [
    "## Inference:\n",
    "\n",
    "- **`75%` of the cars present fall under 22k price range**\n",
    "- **Mean price is 18k**"
   ]
  },
  {
   "cell_type": "code",
   "execution_count": 15,
   "id": "4f53c569",
   "metadata": {},
   "outputs": [
    {
     "name": "stderr",
     "output_type": "stream",
     "text": [
      "C:\\Users\\suraj\\anaconda3\\lib\\site-packages\\seaborn\\distributions.py:2557: FutureWarning: `distplot` is a deprecated function and will be removed in a future version. Please adapt your code to use either `displot` (a figure-level function with similar flexibility) or `histplot` (an axes-level function for histograms).\n",
      "  warnings.warn(msg, FutureWarning)\n"
     ]
    },
    {
     "data": {
      "text/plain": [
       "<AxesSubplot:xlabel='Levy', ylabel='Density'>"
      ]
     },
     "execution_count": 15,
     "metadata": {},
     "output_type": "execute_result"
    },
    {
     "data": {
      "image/png": "[encoded data removed]",
      "text/plain": [
       "<Figure size 432x288 with 1 Axes>"
      ]
     },
     "metadata": {
      "needs_background": "light"
     },
     "output_type": "display_data"
    }
   ],
   "source": [
    "sns.distplot(train_df.Levy,hist=True)"
   ]
  },
  {
   "cell_type": "code",
   "execution_count": 16,
   "id": "bf96b589",
   "metadata": {},
   "outputs": [
    {
     "name": "stdout",
     "output_type": "stream",
     "text": [
      "['LEXUS' 'CHEVROLET' 'HONDA' 'FORD' 'HYUNDAI' 'TOYOTA' 'MERCEDES-BENZ'\n",
      " 'OPEL' 'PORSCHE' 'BMW' 'JEEP' 'VOLKSWAGEN' 'AUDI' 'RENAULT' 'NISSAN'\n",
      " 'SUBARU' 'DAEWOO' 'KIA' 'MITSUBISHI' 'SSANGYONG' 'MAZDA' 'GMC' 'FIAT'\n",
      " 'INFINITI' 'ALFA ROMEO' 'SUZUKI' 'ACURA' 'LINCOLN' 'VAZ' 'GAZ' 'CITROEN'\n",
      " 'LAND ROVER' 'MINI' 'DODGE' 'CHRYSLER' 'JAGUAR' 'ISUZU' 'SKODA'\n",
      " 'DAIHATSU' 'BUICK' 'TESLA' 'CADILLAC' 'PEUGEOT' 'BENTLEY' 'VOLVO' 'სხვა'\n",
      " 'HAVAL' 'HUMMER' 'SCION' 'UAZ' 'MERCURY' 'ZAZ' 'ROVER' 'SEAT' 'LANCIA'\n",
      " 'MOSKVICH' 'MASERATI' 'FERRARI' 'SAAB' 'LAMBORGHINI' 'ROLLS-ROYCE'\n",
      " 'PONTIAC' 'SATURN' 'ASTON MARTIN' 'GREATWALL']\n"
     ]
    }
   ],
   "source": [
    "# Checking for the manufactures column\n",
    "\n",
    "print(train_df['Manufacturer'].unique())"
   ]
  },
  {
   "cell_type": "code",
   "execution_count": 17,
   "id": "6d2e56a1",
   "metadata": {},
   "outputs": [
    {
     "data": {
      "text/plain": [
       "<AxesSubplot:xlabel='Manufacturer', ylabel='count'>"
      ]
     },
     "execution_count": 17,
     "metadata": {},
     "output_type": "execute_result"
    },
    {
     "data": {
      "image/png": "[encoded data removed]",
      "text/plain": [
       "<Figure size 1440x576 with 1 Axes>"
      ]
     },
     "metadata": {
      "needs_background": "light"
     },
     "output_type": "display_data"
    }
   ],
   "source": [
    "plt.figure(figsize=(20,8))\n",
    "plt.xticks(rotation = 90)\n",
    "sns.countplot(x = 'Manufacturer', data = train_df, palette=\"mako_r\")"
   ]
  },
  {
   "cell_type": "markdown",
   "id": "96e40d94",
   "metadata": {},
   "source": [
    "## Inference:\n",
    "\n",
    "- **`Hyundai` is the most common car manufacturer followed by `Toyota`, both of them majorly deals in family cars** \n",
    "    \n",
    "    - **1. Many luxury brands don't have much presence, these cars are niche and low in numbers**"
   ]
  },
  {
   "cell_type": "code",
   "execution_count": 18,
   "id": "c7f32739",
   "metadata": {},
   "outputs": [],
   "source": [
    "manufacturer_mean_price = train_df.groupby('Manufacturer')['Price'].mean()"
   ]
  },
  {
   "cell_type": "code",
   "execution_count": 19,
   "id": "27d92568",
   "metadata": {},
   "outputs": [
    {
     "data": {
      "text/plain": [
       "<BarContainer object of 65 artists>"
      ]
     },
     "execution_count": 19,
     "metadata": {},
     "output_type": "execute_result"
    },
    {
     "data": {
      "image/png": "[encoded data removed]",
      "text/plain": [
       "<Figure size 864x576 with 1 Axes>"
      ]
     },
     "metadata": {
      "needs_background": "light"
     },
     "output_type": "display_data"
    }
   ],
   "source": [
    "plt.figure(figsize=(12,8))\n",
    "plt.ylabel('Average Price')\n",
    "plt.xlabel('Manufacturer')\n",
    "plt.title('Average Price by Manufacturer')\n",
    "plt.xticks(rotation = 90)\n",
    "plt.bar(manufacturer_mean_price.index, manufacturer_mean_price)"
   ]
  },
  {
   "cell_type": "markdown",
   "id": "7941f5e2",
   "metadata": {},
   "source": [
    "## Inference:\n",
    "- **Lamborghini has the highest mean price of the lot, in presence of other luxury car manufacturer**\n",
    "     - **We can conclude that the number of lamborghinis are substantially higher as compared to the other luxury car manufacturers**\n",
    "- **We also can infer the high count of 'Hyundai' and 'Toyota' can be attributed to their low prices**"
   ]
  },
  {
   "cell_type": "code",
   "execution_count": 20,
   "id": "210ba3f3",
   "metadata": {},
   "outputs": [
    {
     "data": {
      "text/html": [
       "<div>\n",
       "<style scoped>\n",
       "    .dataframe tbody tr th:only-of-type {\n",
       "        vertical-align: middle;\n",
       "    }\n",
       "\n",
       "    .dataframe tbody tr th {\n",
       "        vertical-align: top;\n",
       "    }\n",
       "\n",
       "    .dataframe thead th {\n",
       "        text-align: right;\n",
       "    }\n",
       "</style>\n",
       "<table border=\"1\" class=\"dataframe\">\n",
       "  <thead>\n",
       "    <tr style=\"text-align: right;\">\n",
       "      <th></th>\n",
       "      <th>ID</th>\n",
       "      <th>Price</th>\n",
       "      <th>Levy</th>\n",
       "      <th>Manufacturer</th>\n",
       "      <th>Model</th>\n",
       "      <th>Prod. year</th>\n",
       "      <th>Category</th>\n",
       "      <th>Leather interior</th>\n",
       "      <th>Fuel type</th>\n",
       "      <th>Engine volume</th>\n",
       "      <th>Mileage</th>\n",
       "      <th>Cylinders</th>\n",
       "      <th>Gear box type</th>\n",
       "      <th>Drive wheels</th>\n",
       "      <th>Doors</th>\n",
       "      <th>Wheel</th>\n",
       "      <th>Color</th>\n",
       "      <th>Airbags</th>\n",
       "    </tr>\n",
       "  </thead>\n",
       "  <tbody>\n",
       "    <tr>\n",
       "      <th>0</th>\n",
       "      <td>45654403</td>\n",
       "      <td>13328</td>\n",
       "      <td>1399</td>\n",
       "      <td>LEXUS</td>\n",
       "      <td>RX 450</td>\n",
       "      <td>2010</td>\n",
       "      <td>Jeep</td>\n",
       "      <td>Yes</td>\n",
       "      <td>Hybrid</td>\n",
       "      <td>3.5</td>\n",
       "      <td>186005</td>\n",
       "      <td>6.0</td>\n",
       "      <td>Automatic</td>\n",
       "      <td>4x4</td>\n",
       "      <td>04</td>\n",
       "      <td>Left wheel</td>\n",
       "      <td>Silver</td>\n",
       "      <td>12</td>\n",
       "    </tr>\n",
       "    <tr>\n",
       "      <th>1</th>\n",
       "      <td>44731507</td>\n",
       "      <td>16621</td>\n",
       "      <td>1018</td>\n",
       "      <td>CHEVROLET</td>\n",
       "      <td>Equinox</td>\n",
       "      <td>2011</td>\n",
       "      <td>Jeep</td>\n",
       "      <td>No</td>\n",
       "      <td>Petrol</td>\n",
       "      <td>3</td>\n",
       "      <td>192000</td>\n",
       "      <td>6.0</td>\n",
       "      <td>Tiptronic</td>\n",
       "      <td>4x4</td>\n",
       "      <td>04</td>\n",
       "      <td>Left wheel</td>\n",
       "      <td>Black</td>\n",
       "      <td>8</td>\n",
       "    </tr>\n",
       "    <tr>\n",
       "      <th>2</th>\n",
       "      <td>45774419</td>\n",
       "      <td>8467</td>\n",
       "      <td>0</td>\n",
       "      <td>HONDA</td>\n",
       "      <td>FIT</td>\n",
       "      <td>2006</td>\n",
       "      <td>Hatchback</td>\n",
       "      <td>No</td>\n",
       "      <td>Petrol</td>\n",
       "      <td>1.3</td>\n",
       "      <td>200000</td>\n",
       "      <td>4.0</td>\n",
       "      <td>Variator</td>\n",
       "      <td>Front</td>\n",
       "      <td>04</td>\n",
       "      <td>Right-hand drive</td>\n",
       "      <td>Black</td>\n",
       "      <td>2</td>\n",
       "    </tr>\n",
       "    <tr>\n",
       "      <th>3</th>\n",
       "      <td>45769185</td>\n",
       "      <td>3607</td>\n",
       "      <td>862</td>\n",
       "      <td>FORD</td>\n",
       "      <td>Escape</td>\n",
       "      <td>2011</td>\n",
       "      <td>Jeep</td>\n",
       "      <td>Yes</td>\n",
       "      <td>Hybrid</td>\n",
       "      <td>2.5</td>\n",
       "      <td>168966</td>\n",
       "      <td>4.0</td>\n",
       "      <td>Automatic</td>\n",
       "      <td>4x4</td>\n",
       "      <td>04</td>\n",
       "      <td>Left wheel</td>\n",
       "      <td>White</td>\n",
       "      <td>0</td>\n",
       "    </tr>\n",
       "    <tr>\n",
       "      <th>4</th>\n",
       "      <td>45809263</td>\n",
       "      <td>11726</td>\n",
       "      <td>446</td>\n",
       "      <td>HONDA</td>\n",
       "      <td>FIT</td>\n",
       "      <td>2014</td>\n",
       "      <td>Hatchback</td>\n",
       "      <td>Yes</td>\n",
       "      <td>Petrol</td>\n",
       "      <td>1.3</td>\n",
       "      <td>91901</td>\n",
       "      <td>4.0</td>\n",
       "      <td>Automatic</td>\n",
       "      <td>Front</td>\n",
       "      <td>04</td>\n",
       "      <td>Left wheel</td>\n",
       "      <td>Silver</td>\n",
       "      <td>4</td>\n",
       "    </tr>\n",
       "  </tbody>\n",
       "</table>\n",
       "</div>"
      ],
      "text/plain": [
       "         ID  Price  Levy Manufacturer    Model  Prod. year   Category  \\\n",
       "0  45654403  13328  1399        LEXUS   RX 450        2010       Jeep   \n",
       "1  44731507  16621  1018    CHEVROLET  Equinox        2011       Jeep   \n",
       "2  45774419   8467     0        HONDA      FIT        2006  Hatchback   \n",
       "3  45769185   3607   862         FORD   Escape        2011       Jeep   \n",
       "4  45809263  11726   446        HONDA      FIT        2014  Hatchback   \n",
       "\n",
       "  Leather interior Fuel type Engine volume  Mileage  Cylinders Gear box type  \\\n",
       "0              Yes    Hybrid           3.5  186005         6.0     Automatic   \n",
       "1               No    Petrol             3  192000         6.0     Tiptronic   \n",
       "2               No    Petrol           1.3  200000         4.0      Variator   \n",
       "3              Yes    Hybrid           2.5  168966         4.0     Automatic   \n",
       "4              Yes    Petrol           1.3   91901         4.0     Automatic   \n",
       "\n",
       "  Drive wheels Doors             Wheel   Color  Airbags  \n",
       "0          4x4    04        Left wheel  Silver       12  \n",
       "1          4x4    04        Left wheel   Black        8  \n",
       "2        Front    04  Right-hand drive   Black        2  \n",
       "3          4x4    04        Left wheel   White        0  \n",
       "4        Front    04        Left wheel  Silver        4  "
      ]
     },
     "execution_count": 20,
     "metadata": {},
     "output_type": "execute_result"
    }
   ],
   "source": [
    "train_df.head()"
   ]
  },
  {
   "cell_type": "code",
   "execution_count": 21,
   "id": "468bae7b",
   "metadata": {},
   "outputs": [],
   "source": [
    "# Creating an 'Age' column\n",
    "# 'Age' is the difference in Production year and the current year\n",
    "\n",
    "current_year = 2021\n",
    "\n",
    "train_df['Age'] = train_df['Prod. year'].apply(lambda x : current_year - x)\n",
    "test_df['Age'] = train_df['Prod. year'].apply(lambda x : current_year - x)"
   ]
  },
  {
   "cell_type": "code",
   "execution_count": 22,
   "id": "e2988c7e",
   "metadata": {},
   "outputs": [
    {
     "data": {
      "image/png": "[encoded data removed]",
      "text/plain": [
       "<Figure size 720x576 with 1 Axes>"
      ]
     },
     "metadata": {
      "needs_background": "light"
     },
     "output_type": "display_data"
    }
   ],
   "source": [
    "# Visualising the column 'Category'\n",
    "plt.figure(figsize=(10,8))\n",
    "plt.xticks(rotation = 90)\n",
    "plt.title('Distribution of Category')\n",
    "ax = sns.countplot(x = 'Category', data = train_df, palette = 'viridis')"
   ]
  },
  {
   "cell_type": "markdown",
   "id": "86092a55",
   "metadata": {},
   "source": [
    "## Inference:\n",
    "\n",
    "- **`Sedan` class is the most common category in the dataset, followed by `Jeep`**"
   ]
  },
  {
   "cell_type": "code",
   "execution_count": 23,
   "id": "03ecd021",
   "metadata": {},
   "outputs": [
    {
     "data": {
      "text/plain": [
       "<BarContainer object of 11 artists>"
      ]
     },
     "execution_count": 23,
     "metadata": {},
     "output_type": "execute_result"
    },
    {
     "data": {
      "image/png": "[encoded data removed]",
      "text/plain": [
       "<Figure size 864x576 with 1 Axes>"
      ]
     },
     "metadata": {
      "needs_background": "light"
     },
     "output_type": "display_data"
    }
   ],
   "source": [
    "# Let's see the category wise average price of the cars\n",
    "\n",
    "df_category_meanPrice = train_df.groupby('Category')['Price'].mean()\n",
    "plt.figure(figsize=(12,8))\n",
    "plt.ylabel('Average Price')\n",
    "plt.xlabel('Category')\n",
    "plt.title('Average Price by Category')\n",
    "plt.xticks(rotation = 90)\n",
    "plt.bar(df_category_meanPrice.index, df_category_meanPrice)"
   ]
  },
  {
   "cell_type": "markdown",
   "id": "3853f0b6",
   "metadata": {},
   "source": [
    "## Inference:\n",
    "\n",
    "- **`Good wagon` have the highest average price, which makes financial sense as these wagons are very expensive.**\n",
    "- **`Sedan` have lower mean price, which corresponds to their high selling numbers**"
   ]
  },
  {
   "cell_type": "code",
   "execution_count": 24,
   "id": "6a10ddf2",
   "metadata": {},
   "outputs": [
    {
     "data": {
      "image/png": "[encoded data removed]",
      "text/plain": [
       "<Figure size 576x576 with 1 Axes>"
      ]
     },
     "metadata": {
      "needs_background": "light"
     },
     "output_type": "display_data"
    }
   ],
   "source": [
    "# Distribution of the 'Leather interior' column\n",
    "\n",
    "labels = train_df['Leather interior'].value_counts().index\n",
    "values = train_df['Leather interior'].value_counts().values\n",
    "\n",
    "plt.figure(figsize = (8, 8))\n",
    "plt.xlabel('Leather Interior')\n",
    "plt.ylabel('Count')\n",
    "ax = sns.barplot(x=labels, y=values)\n",
    "for i, p in enumerate(ax.patches):\n",
    "    height = p.get_height()\n",
    "    ax.text(p.get_x()+p.get_width()/2., height + 0.1, values[i],ha=\"center\")"
   ]
  },
  {
   "cell_type": "code",
   "execution_count": 25,
   "id": "54674f38",
   "metadata": {},
   "outputs": [
    {
     "data": {
      "image/png": "[encoded data removed]",
      "text/plain": [
       "<Figure size 576x576 with 1 Axes>"
      ]
     },
     "metadata": {
      "needs_background": "light"
     },
     "output_type": "display_data"
    }
   ],
   "source": [
    "# Distribution of 'Fuel type' columns\n",
    "\n",
    "labels = train_df['Fuel type'].value_counts().index\n",
    "values = train_df['Fuel type'].value_counts().values\n",
    "\n",
    "plt.figure(figsize = (8, 8))\n",
    "plt.xlabel('Fuel Type')\n",
    "plt.ylabel('Count')\n",
    "ax = sns.barplot(x=labels, y=values)\n",
    "for i, p in enumerate(ax.patches):\n",
    "    height = p.get_height()\n",
    "    ax.text(p.get_x()+p.get_width()/2., height + 0.1, values[i],ha=\"center\")"
   ]
  },
  {
   "cell_type": "markdown",
   "id": "c5796e5f",
   "metadata": {},
   "source": [
    "## Inference:\n",
    "\n",
    "- **`Petrol` car types have the highest market share.**\n",
    "    - **Interesting to note, that `Hybrid cars` and `Diesel cars` have almost equal market share.** "
   ]
  },
  {
   "cell_type": "code",
   "execution_count": 26,
   "id": "05c7769b",
   "metadata": {},
   "outputs": [
    {
     "data": {
      "text/plain": [
       "<BarContainer object of 7 artists>"
      ]
     },
     "execution_count": 26,
     "metadata": {},
     "output_type": "execute_result"
    },
    {
     "data": {
      "image/png": "[encoded data removed]",
      "text/plain": [
       "<Figure size 864x576 with 1 Axes>"
      ]
     },
     "metadata": {
      "needs_background": "light"
     },
     "output_type": "display_data"
    }
   ],
   "source": [
    "df_fueltype_meanPrice = train_df.groupby('Fuel type')['Price'].mean()\n",
    "plt.figure(figsize=(12,8))\n",
    "plt.ylabel('Average Price')\n",
    "plt.xlabel('Fuel Type')\n",
    "plt.title('Average Price by Fuel Type')\n",
    "plt.xticks(rotation = 90)\n",
    "plt.bar(df_fueltype_meanPrice.index, df_fueltype_meanPrice)"
   ]
  },
  {
   "cell_type": "markdown",
   "id": "65d09608",
   "metadata": {},
   "source": [
    "## Inference:\n",
    "\n",
    "- **`Diesel` cars are have the highest average price.**\n",
    "    - **The hydrogen car present in category is the 'only one', hence we see it's value such high in number.**"
   ]
  },
  {
   "cell_type": "code",
   "execution_count": 27,
   "id": "a58c40a7",
   "metadata": {},
   "outputs": [
    {
     "data": {
      "text/plain": [
       "array(['3.5', '3', '1.3', '2.5', '2', '1.8', '2.4', '4', '1.6', '3.3',\n",
       "       '2.0 Turbo', '2.2 Turbo', '4.7', '1.5', '4.4', '3.0 Turbo',\n",
       "       '1.4 Turbo', '3.6', '2.3', '1.5 Turbo', '1.6 Turbo', '2.2',\n",
       "       '2.3 Turbo', '1.4', '5.5', '2.8 Turbo', '3.2', '3.8', '4.6', '1.2',\n",
       "       '5', '1.7', '2.9', '0.5', '1.8 Turbo', '2.4 Turbo', '3.5 Turbo',\n",
       "       '1.9', '2.7', '4.8', '5.3', '0.4', '2.8', '3.2 Turbo', '1.1',\n",
       "       '2.1', '0.7', '5.4', '1.3 Turbo', '3.7', '1', '2.5 Turbo', '2.6',\n",
       "       '1.9 Turbo', '4.4 Turbo', '4.7 Turbo', '0.8', '0.2 Turbo', '5.7',\n",
       "       '4.8 Turbo', '4.6 Turbo', '6.7', '6.2', '1.2 Turbo', '3.4',\n",
       "       '1.7 Turbo', '6.3 Turbo', '2.7 Turbo', '4.3', '4.2', '2.9 Turbo',\n",
       "       '0', '4.0 Turbo', '20', '3.6 Turbo', '0.3', '3.7 Turbo', '5.9',\n",
       "       '5.5 Turbo', '0.2', '2.1 Turbo', '5.6', '6', '0.7 Turbo',\n",
       "       '0.6 Turbo', '6.8', '4.5', '0.6', '7.3', '0.1', '1.0 Turbo', '6.3',\n",
       "       '4.5 Turbo', '0.8 Turbo', '4.2 Turbo', '3.1', '5.0 Turbo', '6.4',\n",
       "       '3.9', '5.7 Turbo', '0.9', '0.4 Turbo', '5.4 Turbo', '0.3 Turbo',\n",
       "       '5.2', '5.8', '1.1 Turbo'], dtype=object)"
      ]
     },
     "execution_count": 27,
     "metadata": {},
     "output_type": "execute_result"
    }
   ],
   "source": [
    "train_df['Engine volume'].unique()"
   ]
  },
  {
   "cell_type": "code",
   "execution_count": 28,
   "id": "c788cb9e",
   "metadata": {},
   "outputs": [],
   "source": [
    "# Creating a 'Turbo' column, against the rows with Turbo in their Engine volume\n",
    "# Presence of Turbo - 1\n",
    "# Absence of Turbo - 0\n",
    "\n",
    "turbo_train = []\n",
    "\n",
    "for i in train_df['Engine volume'].str.split(' '):\n",
    "    if 'Turbo' in i:\n",
    "        turbo_train.append(1)\n",
    "    else:\n",
    "        turbo_train.append(0)\n",
    "\n",
    "        \n",
    "turbo_test = []\n",
    "for i in test_df['Engine volume'].str.split(' '):\n",
    "    if 'Turbo' in i:\n",
    "        turbo_test.append(1)\n",
    "    else:\n",
    "        turbo_test.append(0)"
   ]
  },
  {
   "cell_type": "code",
   "execution_count": 29,
   "id": "1934e1ec",
   "metadata": {},
   "outputs": [],
   "source": [
    "train_df['Engine volume'] = train_df['Engine volume'].apply(lambda x: x.split(' ')[0])"
   ]
  },
  {
   "cell_type": "code",
   "execution_count": 30,
   "id": "d07c76a6",
   "metadata": {},
   "outputs": [],
   "source": [
    "test_df['Engine volume'] = test_df['Engine volume'].apply(lambda x: x.split(' ')[0])"
   ]
  },
  {
   "cell_type": "code",
   "execution_count": 31,
   "id": "29ea3724",
   "metadata": {},
   "outputs": [],
   "source": [
    "train_df['Turbo'] = turbo_train\n",
    "test_df['Turbo'] = turbo_test"
   ]
  },
  {
   "cell_type": "code",
   "execution_count": 32,
   "id": "56fb3979",
   "metadata": {},
   "outputs": [],
   "source": [
    "train_df['Mileage'] = train_df['Mileage'].astype('int')\n",
    "test_df['Mileage'] = test_df['Mileage'].astype('int')"
   ]
  },
  {
   "cell_type": "code",
   "execution_count": 33,
   "id": "29c3fd7f",
   "metadata": {
    "scrolled": true
   },
   "outputs": [
    {
     "name": "stderr",
     "output_type": "stream",
     "text": [
      "C:\\Users\\suraj\\anaconda3\\lib\\site-packages\\seaborn\\distributions.py:2557: FutureWarning: `distplot` is a deprecated function and will be removed in a future version. Please adapt your code to use either `displot` (a figure-level function with similar flexibility) or `histplot` (an axes-level function for histograms).\n",
      "  warnings.warn(msg, FutureWarning)\n"
     ]
    },
    {
     "data": {
      "text/plain": [
       "<AxesSubplot:title={'center':'Mileage Spread'}, ylabel='Mileage'>"
      ]
     },
     "execution_count": 33,
     "metadata": {},
     "output_type": "execute_result"
    },
    {
     "data": {
      "image/png": "[encoded data removed]",
      "text/plain": [
       "<Figure size 1440x576 with 2 Axes>"
      ]
     },
     "metadata": {
      "needs_background": "light"
     },
     "output_type": "display_data"
    }
   ],
   "source": [
    "plt.figure(figsize=(20,8))\n",
    "\n",
    "plt.subplot(1,2,1)\n",
    "plt.title('Mileage Distribution Plot')\n",
    "sns.distplot(np.log1p(train_df.Mileage),hist=True)\n",
    "\n",
    "\n",
    "plt.subplot(1,2,2)\n",
    "plt.title('Mileage Spread')\n",
    "sns.boxplot(y=np.log1p(train_df.Mileage))\n"
   ]
  },
  {
   "cell_type": "markdown",
   "id": "783bb2e2",
   "metadata": {},
   "source": [
    "## Inference:\n",
    "\n",
    "- **There are cars present with `0 mileage` as value. This needs numerical correction, as this would physically impossible**"
   ]
  },
  {
   "cell_type": "code",
   "execution_count": 34,
   "id": "7e3cb764",
   "metadata": {},
   "outputs": [],
   "source": [
    "train_df['Mileage'] = train_df['Mileage'].astype('int')"
   ]
  },
  {
   "cell_type": "code",
   "execution_count": 35,
   "id": "1bf10497",
   "metadata": {},
   "outputs": [
    {
     "data": {
      "text/html": [
       "<div>\n",
       "<style scoped>\n",
       "    .dataframe tbody tr th:only-of-type {\n",
       "        vertical-align: middle;\n",
       "    }\n",
       "\n",
       "    .dataframe tbody tr th {\n",
       "        vertical-align: top;\n",
       "    }\n",
       "\n",
       "    .dataframe thead th {\n",
       "        text-align: right;\n",
       "    }\n",
       "</style>\n",
       "<table border=\"1\" class=\"dataframe\">\n",
       "  <thead>\n",
       "    <tr style=\"text-align: right;\">\n",
       "      <th></th>\n",
       "      <th>ID</th>\n",
       "      <th>Price</th>\n",
       "      <th>Levy</th>\n",
       "      <th>Manufacturer</th>\n",
       "      <th>Model</th>\n",
       "      <th>Prod. year</th>\n",
       "      <th>Category</th>\n",
       "      <th>Leather interior</th>\n",
       "      <th>Fuel type</th>\n",
       "      <th>Engine volume</th>\n",
       "      <th>Mileage</th>\n",
       "      <th>Cylinders</th>\n",
       "      <th>Gear box type</th>\n",
       "      <th>Drive wheels</th>\n",
       "      <th>Doors</th>\n",
       "      <th>Wheel</th>\n",
       "      <th>Color</th>\n",
       "      <th>Airbags</th>\n",
       "      <th>Age</th>\n",
       "      <th>Turbo</th>\n",
       "    </tr>\n",
       "  </thead>\n",
       "  <tbody>\n",
       "    <tr>\n",
       "      <th>11</th>\n",
       "      <td>45814819</td>\n",
       "      <td>8781</td>\n",
       "      <td>0</td>\n",
       "      <td>FORD</td>\n",
       "      <td>Transit</td>\n",
       "      <td>1999</td>\n",
       "      <td>Microbus</td>\n",
       "      <td>No</td>\n",
       "      <td>CNG</td>\n",
       "      <td>4</td>\n",
       "      <td>0</td>\n",
       "      <td>8.0</td>\n",
       "      <td>Manual</td>\n",
       "      <td>Rear</td>\n",
       "      <td>02</td>\n",
       "      <td>Left wheel</td>\n",
       "      <td>Blue</td>\n",
       "      <td>0</td>\n",
       "      <td>22</td>\n",
       "      <td>0</td>\n",
       "    </tr>\n",
       "    <tr>\n",
       "      <th>24</th>\n",
       "      <td>45813492</td>\n",
       "      <td>4704</td>\n",
       "      <td>0</td>\n",
       "      <td>OPEL</td>\n",
       "      <td>Vectra</td>\n",
       "      <td>1995</td>\n",
       "      <td>Sedan</td>\n",
       "      <td>No</td>\n",
       "      <td>Petrol</td>\n",
       "      <td>1.8</td>\n",
       "      <td>0</td>\n",
       "      <td>4.0</td>\n",
       "      <td>Automatic</td>\n",
       "      <td>Front</td>\n",
       "      <td>04</td>\n",
       "      <td>Left wheel</td>\n",
       "      <td>Green</td>\n",
       "      <td>4</td>\n",
       "      <td>26</td>\n",
       "      <td>0</td>\n",
       "    </tr>\n",
       "    <tr>\n",
       "      <th>26</th>\n",
       "      <td>45759112</td>\n",
       "      <td>549</td>\n",
       "      <td>2455</td>\n",
       "      <td>LEXUS</td>\n",
       "      <td>GX 470</td>\n",
       "      <td>2008</td>\n",
       "      <td>Jeep</td>\n",
       "      <td>Yes</td>\n",
       "      <td>Petrol</td>\n",
       "      <td>4.7</td>\n",
       "      <td>0</td>\n",
       "      <td>8.0</td>\n",
       "      <td>Automatic</td>\n",
       "      <td>4x4</td>\n",
       "      <td>04</td>\n",
       "      <td>Left wheel</td>\n",
       "      <td>White</td>\n",
       "      <td>0</td>\n",
       "      <td>13</td>\n",
       "      <td>0</td>\n",
       "    </tr>\n",
       "    <tr>\n",
       "      <th>83</th>\n",
       "      <td>45765301</td>\n",
       "      <td>8154</td>\n",
       "      <td>0</td>\n",
       "      <td>HONDA</td>\n",
       "      <td>Cr-v</td>\n",
       "      <td>1998</td>\n",
       "      <td>Jeep</td>\n",
       "      <td>No</td>\n",
       "      <td>Petrol</td>\n",
       "      <td>2</td>\n",
       "      <td>0</td>\n",
       "      <td>4.0</td>\n",
       "      <td>Automatic</td>\n",
       "      <td>4x4</td>\n",
       "      <td>04</td>\n",
       "      <td>Right-hand drive</td>\n",
       "      <td>White</td>\n",
       "      <td>2</td>\n",
       "      <td>23</td>\n",
       "      <td>0</td>\n",
       "    </tr>\n",
       "    <tr>\n",
       "      <th>97</th>\n",
       "      <td>45749534</td>\n",
       "      <td>4234</td>\n",
       "      <td>0</td>\n",
       "      <td>HONDA</td>\n",
       "      <td>Civic</td>\n",
       "      <td>1997</td>\n",
       "      <td>Hatchback</td>\n",
       "      <td>Yes</td>\n",
       "      <td>Petrol</td>\n",
       "      <td>1.4</td>\n",
       "      <td>0</td>\n",
       "      <td>4.0</td>\n",
       "      <td>Manual</td>\n",
       "      <td>Front</td>\n",
       "      <td>02</td>\n",
       "      <td>Left wheel</td>\n",
       "      <td>Blue</td>\n",
       "      <td>6</td>\n",
       "      <td>24</td>\n",
       "      <td>0</td>\n",
       "    </tr>\n",
       "    <tr>\n",
       "      <th>...</th>\n",
       "      <td>...</td>\n",
       "      <td>...</td>\n",
       "      <td>...</td>\n",
       "      <td>...</td>\n",
       "      <td>...</td>\n",
       "      <td>...</td>\n",
       "      <td>...</td>\n",
       "      <td>...</td>\n",
       "      <td>...</td>\n",
       "      <td>...</td>\n",
       "      <td>...</td>\n",
       "      <td>...</td>\n",
       "      <td>...</td>\n",
       "      <td>...</td>\n",
       "      <td>...</td>\n",
       "      <td>...</td>\n",
       "      <td>...</td>\n",
       "      <td>...</td>\n",
       "      <td>...</td>\n",
       "      <td>...</td>\n",
       "    </tr>\n",
       "    <tr>\n",
       "      <th>19064</th>\n",
       "      <td>45791823</td>\n",
       "      <td>2900</td>\n",
       "      <td>0</td>\n",
       "      <td>BMW</td>\n",
       "      <td>320</td>\n",
       "      <td>1994</td>\n",
       "      <td>Sedan</td>\n",
       "      <td>Yes</td>\n",
       "      <td>Petrol</td>\n",
       "      <td>2</td>\n",
       "      <td>0</td>\n",
       "      <td>6.0</td>\n",
       "      <td>Manual</td>\n",
       "      <td>Rear</td>\n",
       "      <td>04</td>\n",
       "      <td>Left wheel</td>\n",
       "      <td>Green</td>\n",
       "      <td>2</td>\n",
       "      <td>27</td>\n",
       "      <td>0</td>\n",
       "    </tr>\n",
       "    <tr>\n",
       "      <th>19088</th>\n",
       "      <td>45782030</td>\n",
       "      <td>2200</td>\n",
       "      <td>0</td>\n",
       "      <td>PEUGEOT</td>\n",
       "      <td>406</td>\n",
       "      <td>2001</td>\n",
       "      <td>Sedan</td>\n",
       "      <td>No</td>\n",
       "      <td>Petrol</td>\n",
       "      <td>2</td>\n",
       "      <td>0</td>\n",
       "      <td>4.0</td>\n",
       "      <td>Manual</td>\n",
       "      <td>Front</td>\n",
       "      <td>04</td>\n",
       "      <td>Left wheel</td>\n",
       "      <td>White</td>\n",
       "      <td>2</td>\n",
       "      <td>20</td>\n",
       "      <td>0</td>\n",
       "    </tr>\n",
       "    <tr>\n",
       "      <th>19103</th>\n",
       "      <td>45748748</td>\n",
       "      <td>30</td>\n",
       "      <td>0</td>\n",
       "      <td>NISSAN</td>\n",
       "      <td>Tiida</td>\n",
       "      <td>2006</td>\n",
       "      <td>Hatchback</td>\n",
       "      <td>No</td>\n",
       "      <td>Petrol</td>\n",
       "      <td>1.5</td>\n",
       "      <td>0</td>\n",
       "      <td>4.0</td>\n",
       "      <td>Automatic</td>\n",
       "      <td>Front</td>\n",
       "      <td>04</td>\n",
       "      <td>Right-hand drive</td>\n",
       "      <td>Black</td>\n",
       "      <td>4</td>\n",
       "      <td>15</td>\n",
       "      <td>0</td>\n",
       "    </tr>\n",
       "    <tr>\n",
       "      <th>19218</th>\n",
       "      <td>45748699</td>\n",
       "      <td>30</td>\n",
       "      <td>0</td>\n",
       "      <td>NISSAN</td>\n",
       "      <td>Note</td>\n",
       "      <td>2006</td>\n",
       "      <td>Hatchback</td>\n",
       "      <td>No</td>\n",
       "      <td>Petrol</td>\n",
       "      <td>1.3</td>\n",
       "      <td>0</td>\n",
       "      <td>4.0</td>\n",
       "      <td>Automatic</td>\n",
       "      <td>Front</td>\n",
       "      <td>04</td>\n",
       "      <td>Right-hand drive</td>\n",
       "      <td>Green</td>\n",
       "      <td>9</td>\n",
       "      <td>15</td>\n",
       "      <td>0</td>\n",
       "    </tr>\n",
       "    <tr>\n",
       "      <th>19223</th>\n",
       "      <td>44571028</td>\n",
       "      <td>8781</td>\n",
       "      <td>0</td>\n",
       "      <td>DODGE</td>\n",
       "      <td>Caliber</td>\n",
       "      <td>2008</td>\n",
       "      <td>Hatchback</td>\n",
       "      <td>No</td>\n",
       "      <td>Petrol</td>\n",
       "      <td>2.4</td>\n",
       "      <td>0</td>\n",
       "      <td>4.0</td>\n",
       "      <td>Automatic</td>\n",
       "      <td>Front</td>\n",
       "      <td>04</td>\n",
       "      <td>Left wheel</td>\n",
       "      <td>Blue</td>\n",
       "      <td>4</td>\n",
       "      <td>13</td>\n",
       "      <td>0</td>\n",
       "    </tr>\n",
       "  </tbody>\n",
       "</table>\n",
       "<p>721 rows × 20 columns</p>\n",
       "</div>"
      ],
      "text/plain": [
       "             ID  Price  Levy Manufacturer    Model  Prod. year   Category  \\\n",
       "11     45814819   8781     0         FORD  Transit        1999   Microbus   \n",
       "24     45813492   4704     0         OPEL   Vectra        1995      Sedan   \n",
       "26     45759112    549  2455        LEXUS   GX 470        2008       Jeep   \n",
       "83     45765301   8154     0        HONDA     Cr-v        1998       Jeep   \n",
       "97     45749534   4234     0        HONDA    Civic        1997  Hatchback   \n",
       "...         ...    ...   ...          ...      ...         ...        ...   \n",
       "19064  45791823   2900     0          BMW      320        1994      Sedan   \n",
       "19088  45782030   2200     0      PEUGEOT      406        2001      Sedan   \n",
       "19103  45748748     30     0       NISSAN    Tiida        2006  Hatchback   \n",
       "19218  45748699     30     0       NISSAN     Note        2006  Hatchback   \n",
       "19223  44571028   8781     0        DODGE  Caliber        2008  Hatchback   \n",
       "\n",
       "      Leather interior Fuel type Engine volume  Mileage  Cylinders  \\\n",
       "11                  No       CNG             4        0        8.0   \n",
       "24                  No    Petrol           1.8        0        4.0   \n",
       "26                 Yes    Petrol           4.7        0        8.0   \n",
       "83                  No    Petrol             2        0        4.0   \n",
       "97                 Yes    Petrol           1.4        0        4.0   \n",
       "...                ...       ...           ...      ...        ...   \n",
       "19064              Yes    Petrol             2        0        6.0   \n",
       "19088               No    Petrol             2        0        4.0   \n",
       "19103               No    Petrol           1.5        0        4.0   \n",
       "19218               No    Petrol           1.3        0        4.0   \n",
       "19223               No    Petrol           2.4        0        4.0   \n",
       "\n",
       "      Gear box type Drive wheels Doors             Wheel  Color  Airbags  Age  \\\n",
       "11           Manual         Rear    02        Left wheel   Blue        0   22   \n",
       "24        Automatic        Front    04        Left wheel  Green        4   26   \n",
       "26        Automatic          4x4    04        Left wheel  White        0   13   \n",
       "83        Automatic          4x4    04  Right-hand drive  White        2   23   \n",
       "97           Manual        Front    02        Left wheel   Blue        6   24   \n",
       "...             ...          ...   ...               ...    ...      ...  ...   \n",
       "19064        Manual         Rear    04        Left wheel  Green        2   27   \n",
       "19088        Manual        Front    04        Left wheel  White        2   20   \n",
       "19103     Automatic        Front    04  Right-hand drive  Black        4   15   \n",
       "19218     Automatic        Front    04  Right-hand drive  Green        9   15   \n",
       "19223     Automatic        Front    04        Left wheel   Blue        4   13   \n",
       "\n",
       "       Turbo  \n",
       "11         0  \n",
       "24         0  \n",
       "26         0  \n",
       "83         0  \n",
       "97         0  \n",
       "...      ...  \n",
       "19064      0  \n",
       "19088      0  \n",
       "19103      0  \n",
       "19218      0  \n",
       "19223      0  \n",
       "\n",
       "[721 rows x 20 columns]"
      ]
     },
     "execution_count": 35,
     "metadata": {},
     "output_type": "execute_result"
    }
   ],
   "source": [
    "train_df.loc[train_df.Mileage == 0]"
   ]
  },
  {
   "cell_type": "code",
   "execution_count": 36,
   "id": "ff733b4d",
   "metadata": {},
   "outputs": [],
   "source": [
    "train_df['Mileage'].replace(0, train_df['Mileage'].median(), inplace = True)"
   ]
  },
  {
   "cell_type": "code",
   "execution_count": 37,
   "id": "62a5663b",
   "metadata": {},
   "outputs": [],
   "source": [
    "test_df['Mileage'].replace(0, test_df['Mileage'].median(), inplace = True)"
   ]
  },
  {
   "cell_type": "code",
   "execution_count": 38,
   "id": "19fed972",
   "metadata": {},
   "outputs": [
    {
     "data": {
      "text/plain": [
       "<AxesSubplot:title={'center':'Distribution of cylinders present'}, xlabel='Cylinders', ylabel='count'>"
      ]
     },
     "execution_count": 38,
     "metadata": {},
     "output_type": "execute_result"
    },
    {
     "data": {
      "image/png": "[encoded data removed]",
      "text/plain": [
       "<Figure size 576x576 with 1 Axes>"
      ]
     },
     "metadata": {
      "needs_background": "light"
     },
     "output_type": "display_data"
    }
   ],
   "source": [
    "plt.figure(figsize=(8,8))\n",
    "plt.xlabel('Number of Cylinders')\n",
    "plt.ylabel('Count')\n",
    "plt.title('Distribution of cylinders present')\n",
    "sns.countplot(x = train_df['Cylinders'])"
   ]
  },
  {
   "cell_type": "code",
   "execution_count": 39,
   "id": "b7897ebb",
   "metadata": {},
   "outputs": [],
   "source": [
    "train_df['Cylinders'] = train_df['Cylinders'].astype('int')"
   ]
  },
  {
   "cell_type": "code",
   "execution_count": 40,
   "id": "d3d2e392",
   "metadata": {},
   "outputs": [],
   "source": [
    "test_df['Cylinders'] = test_df['Cylinders'].astype('int')"
   ]
  },
  {
   "cell_type": "code",
   "execution_count": 41,
   "id": "1f3610bf",
   "metadata": {},
   "outputs": [
    {
     "name": "stderr",
     "output_type": "stream",
     "text": [
      "C:\\Users\\suraj\\anaconda3\\lib\\site-packages\\seaborn\\distributions.py:2557: FutureWarning: `distplot` is a deprecated function and will be removed in a future version. Please adapt your code to use either `displot` (a figure-level function with similar flexibility) or `histplot` (an axes-level function for histograms).\n",
      "  warnings.warn(msg, FutureWarning)\n"
     ]
    },
    {
     "data": {
      "text/plain": [
       "<AxesSubplot:title={'center':'Cylinders Spread'}, ylabel='Cylinders'>"
      ]
     },
     "execution_count": 41,
     "metadata": {},
     "output_type": "execute_result"
    },
    {
     "data": {
      "image/png": "[encoded data removed]",
      "text/plain": [
       "<Figure size 1440x576 with 2 Axes>"
      ]
     },
     "metadata": {
      "needs_background": "light"
     },
     "output_type": "display_data"
    }
   ],
   "source": [
    "plt.figure(figsize=(20,8))\n",
    "plt.subplot(1,2,1)\n",
    "plt.title('Cylinders Distribution Plot')\n",
    "sns.distplot((train_df.Cylinders),hist=True )\n",
    "\n",
    "\n",
    "plt.subplot(1,2,2)\n",
    "plt.title('Cylinders Spread')\n",
    "sns.boxplot(y = train_df.Cylinders)\n"
   ]
  },
  {
   "cell_type": "code",
   "execution_count": 42,
   "id": "e75c3ff8",
   "metadata": {},
   "outputs": [
    {
     "name": "stdout",
     "output_type": "stream",
     "text": [
      "count    19237.000000\n",
      "mean         4.582991\n",
      "std          1.199933\n",
      "min          1.000000\n",
      "25%          4.000000\n",
      "50%          4.000000\n",
      "75%          4.000000\n",
      "max         16.000000\n",
      "Name: Cylinders, dtype: float64\n"
     ]
    }
   ],
   "source": [
    "print(train_df['Cylinders'].describe())"
   ]
  },
  {
   "cell_type": "markdown",
   "id": "e7b9af4a",
   "metadata": {},
   "source": [
    "## Inference:\n",
    "\n",
    "- **`75%` of the cars have `4 cylinders`**\n",
    "- **`16` is the highest number for cylinders present**"
   ]
  },
  {
   "cell_type": "code",
   "execution_count": 43,
   "id": "a23d3ea2",
   "metadata": {},
   "outputs": [
    {
     "data": {
      "text/html": [
       "<div>\n",
       "<style scoped>\n",
       "    .dataframe tbody tr th:only-of-type {\n",
       "        vertical-align: middle;\n",
       "    }\n",
       "\n",
       "    .dataframe tbody tr th {\n",
       "        vertical-align: top;\n",
       "    }\n",
       "\n",
       "    .dataframe thead th {\n",
       "        text-align: right;\n",
       "    }\n",
       "</style>\n",
       "<table border=\"1\" class=\"dataframe\">\n",
       "  <thead>\n",
       "    <tr style=\"text-align: right;\">\n",
       "      <th></th>\n",
       "      <th>ID</th>\n",
       "      <th>Price</th>\n",
       "      <th>Levy</th>\n",
       "      <th>Manufacturer</th>\n",
       "      <th>Model</th>\n",
       "      <th>Prod. year</th>\n",
       "      <th>Category</th>\n",
       "      <th>Leather interior</th>\n",
       "      <th>Fuel type</th>\n",
       "      <th>Engine volume</th>\n",
       "      <th>Mileage</th>\n",
       "      <th>Cylinders</th>\n",
       "      <th>Gear box type</th>\n",
       "      <th>Drive wheels</th>\n",
       "      <th>Doors</th>\n",
       "      <th>Wheel</th>\n",
       "      <th>Color</th>\n",
       "      <th>Airbags</th>\n",
       "      <th>Age</th>\n",
       "      <th>Turbo</th>\n",
       "    </tr>\n",
       "  </thead>\n",
       "  <tbody>\n",
       "    <tr>\n",
       "      <th>2010</th>\n",
       "      <td>45751914</td>\n",
       "      <td>53941</td>\n",
       "      <td>87</td>\n",
       "      <td>TESLA</td>\n",
       "      <td>Model X</td>\n",
       "      <td>2018</td>\n",
       "      <td>Sedan</td>\n",
       "      <td>Yes</td>\n",
       "      <td>Petrol</td>\n",
       "      <td>0</td>\n",
       "      <td>81907</td>\n",
       "      <td>6</td>\n",
       "      <td>Automatic</td>\n",
       "      <td>4x4</td>\n",
       "      <td>04</td>\n",
       "      <td>Left wheel</td>\n",
       "      <td>Silver</td>\n",
       "      <td>12</td>\n",
       "      <td>3</td>\n",
       "      <td>0</td>\n",
       "    </tr>\n",
       "  </tbody>\n",
       "</table>\n",
       "</div>"
      ],
      "text/plain": [
       "            ID  Price Levy Manufacturer    Model  Prod. year Category  \\\n",
       "2010  45751914  53941   87        TESLA  Model X        2018    Sedan   \n",
       "\n",
       "     Leather interior Fuel type Engine volume  Mileage  Cylinders  \\\n",
       "2010              Yes    Petrol             0    81907          6   \n",
       "\n",
       "     Gear box type Drive wheels Doors       Wheel   Color  Airbags  Age  Turbo  \n",
       "2010     Automatic          4x4    04  Left wheel  Silver       12    3      0  "
      ]
     },
     "execution_count": 43,
     "metadata": {},
     "output_type": "execute_result"
    }
   ],
   "source": [
    "# 'Tesla' cars don't have cylinders in them, we will reassign them with a '0 cylinders'\n",
    "train_df.loc[train_df.Manufacturer == 'TESLA']"
   ]
  },
  {
   "cell_type": "code",
   "execution_count": 44,
   "id": "75e882bf",
   "metadata": {},
   "outputs": [],
   "source": [
    "train_df.loc[train_df.Manufacturer == 'TESLA', 'Cylinders'] = 0"
   ]
  },
  {
   "cell_type": "code",
   "execution_count": 45,
   "id": "53a16d1d",
   "metadata": {},
   "outputs": [
    {
     "data": {
      "text/plain": [
       "<AxesSubplot:xlabel='Cylinders', ylabel='Price'>"
      ]
     },
     "execution_count": 45,
     "metadata": {},
     "output_type": "execute_result"
    },
    {
     "data": {
      "image/png": "[encoded data removed]",
      "text/plain": [
       "<Figure size 576x576 with 1 Axes>"
      ]
     },
     "metadata": {
      "needs_background": "light"
     },
     "output_type": "display_data"
    }
   ],
   "source": [
    "plt.figure(figsize=(8,8))\n",
    "sns.boxplot(x = train_df.Cylinders, y = train_df.Price, palette=(\"cubehelix\"))"
   ]
  },
  {
   "cell_type": "code",
   "execution_count": 46,
   "id": "8bdc6214",
   "metadata": {},
   "outputs": [
    {
     "data": {
      "text/plain": [
       "<AxesSubplot:xlabel='Cylinders', ylabel='Price'>"
      ]
     },
     "execution_count": 46,
     "metadata": {},
     "output_type": "execute_result"
    },
    {
     "data": {
      "image/png": "[encoded data removed]",
      "text/plain": [
       "<Figure size 432x288 with 1 Axes>"
      ]
     },
     "metadata": {
      "needs_background": "light"
     },
     "output_type": "display_data"
    }
   ],
   "source": [
    "sns.regplot(x = 'Cylinders', y = 'Price', data = train_df)"
   ]
  },
  {
   "cell_type": "code",
   "execution_count": 47,
   "id": "d7f17b2f",
   "metadata": {},
   "outputs": [
    {
     "data": {
      "text/plain": [
       "<AxesSubplot:title={'center':'Distribution of Gear box present'}, xlabel='Gear box type', ylabel='count'>"
      ]
     },
     "execution_count": 47,
     "metadata": {},
     "output_type": "execute_result"
    },
    {
     "data": {
      "image/png": "[encoded data removed]",
      "text/plain": [
       "<Figure size 1440x576 with 1 Axes>"
      ]
     },
     "metadata": {
      "needs_background": "light"
     },
     "output_type": "display_data"
    }
   ],
   "source": [
    "# Checking the distribution of 'Gear box type'\n",
    "plt.figure(figsize=(20,8))\n",
    "\n",
    "plt.subplot(1,2,1)\n",
    "plt.title('Distribution of Gear box present')\n",
    "sns.countplot(x = 'Gear box type', data = train_df)\n"
   ]
  },
  {
   "cell_type": "code",
   "execution_count": 48,
   "id": "6e129d47",
   "metadata": {},
   "outputs": [
    {
     "name": "stdout",
     "output_type": "stream",
     "text": [
      "Gear box type\n",
      "Automatic    15974.326032\n",
      "Manual       25614.896533\n",
      "Tiptronic    26448.307221\n",
      "Variator     14762.399464\n",
      "Name: Price, dtype: float64\n"
     ]
    },
    {
     "data": {
      "text/plain": [
       "<AxesSubplot:title={'center':'Average price by Gear box type'}, xlabel='Gear box type', ylabel='Average Price'>"
      ]
     },
     "execution_count": 48,
     "metadata": {},
     "output_type": "execute_result"
    },
    {
     "data": {
      "image/png": "[encoded data removed]",
      "text/plain": [
       "<Figure size 432x288 with 1 Axes>"
      ]
     },
     "metadata": {
      "needs_background": "light"
     },
     "output_type": "display_data"
    }
   ],
   "source": [
    "print(train_df.groupby('Gear box type')['Price'].mean())\n",
    "plt.title('Average price by Gear box type')\n",
    "plt.ylabel('Average Price')\n",
    "train_df.groupby('Gear box type')['Price'].mean().plot(kind = 'bar')"
   ]
  },
  {
   "cell_type": "markdown",
   "id": "8e820cb7",
   "metadata": {},
   "source": [
    "## Inference:\n",
    "\n",
    "- **`Automatic cars` have the highest count.**\n",
    "    - **Even with their low numbers, `Manual cars` have higher average prices, this can be attributed perhaps to their antiquity.**"
   ]
  },
  {
   "cell_type": "code",
   "execution_count": 49,
   "id": "be1dd280",
   "metadata": {},
   "outputs": [
    {
     "data": {
      "text/plain": [
       "<AxesSubplot:title={'center':'Distribution of Drive Wheels'}, xlabel='Drive wheels', ylabel='count'>"
      ]
     },
     "execution_count": 49,
     "metadata": {},
     "output_type": "execute_result"
    },
    {
     "data": {
      "image/png": "[encoded data removed]",
      "text/plain": [
       "<Figure size 1440x576 with 1 Axes>"
      ]
     },
     "metadata": {
      "needs_background": "light"
     },
     "output_type": "display_data"
    }
   ],
   "source": [
    "plt.figure(figsize=(20,8))\n",
    "\n",
    "plt.subplot(1,2,1)\n",
    "plt.title('Distribution of Drive Wheels')\n",
    "sns.countplot(x = train_df['Drive wheels'], data = train_df)\n"
   ]
  },
  {
   "cell_type": "code",
   "execution_count": 50,
   "id": "5422c159",
   "metadata": {},
   "outputs": [
    {
     "name": "stdout",
     "output_type": "stream",
     "text": [
      "Drive wheels\n",
      "4x4      19535.423854\n",
      "Front    18491.339055\n",
      "Rear     17192.244252\n",
      "Name: Price, dtype: float64\n"
     ]
    },
    {
     "data": {
      "text/plain": [
       "<AxesSubplot:title={'center':'Average price by Drive wheels'}, xlabel='Drive wheels', ylabel='Average Price'>"
      ]
     },
     "execution_count": 50,
     "metadata": {},
     "output_type": "execute_result"
    },
    {
     "data": {
      "image/png": "[encoded data removed]",
      "text/plain": [
       "<Figure size 432x288 with 1 Axes>"
      ]
     },
     "metadata": {
      "needs_background": "light"
     },
     "output_type": "display_data"
    }
   ],
   "source": [
    "print(train_df.groupby('Drive wheels')['Price'].mean())\n",
    "plt.title('Average price by Drive wheels')\n",
    "plt.ylabel('Average Price')\n",
    "train_df.groupby('Drive wheels')['Price'].mean().plot(kind = 'bar')"
   ]
  },
  {
   "cell_type": "markdown",
   "id": "21bb417d",
   "metadata": {},
   "source": [
    "## Inference:\n",
    "\n",
    "- **`Front Wheel` drives have the highest count.**\n",
    "- **The average price of the three different drive wheels vehicle doesn't vary much from each other**\\\n",
    "    - **The drive wheel is not signifant in deciding the price**"
   ]
  },
  {
   "cell_type": "code",
   "execution_count": 51,
   "id": "bef12c3b",
   "metadata": {},
   "outputs": [
    {
     "data": {
      "text/plain": [
       "<AxesSubplot:title={'center':'Distribution of Doors present'}, xlabel='Doors', ylabel='count'>"
      ]
     },
     "execution_count": 51,
     "metadata": {},
     "output_type": "execute_result"
    },
    {
     "data": {
      "image/png": "[encoded data removed]",
      "text/plain": [
       "<Figure size 1440x576 with 1 Axes>"
      ]
     },
     "metadata": {
      "needs_background": "light"
     },
     "output_type": "display_data"
    }
   ],
   "source": [
    "plt.figure(figsize=(20,8))\n",
    "\n",
    "plt.subplot(1,2,1)\n",
    "plt.title('Distribution of Doors present')\n",
    "sns.countplot(x = train_df['Doors'], data = train_df, palette = 'copper_r')\n"
   ]
  },
  {
   "cell_type": "code",
   "execution_count": 52,
   "id": "b82ff778",
   "metadata": {},
   "outputs": [
    {
     "name": "stdout",
     "output_type": "stream",
     "text": [
      "Doors\n",
      "02    50379.595882\n",
      "04    17180.945778\n",
      ">5    22299.437500\n",
      "Name: Price, dtype: float64\n"
     ]
    },
    {
     "data": {
      "text/plain": [
       "<AxesSubplot:title={'center':'Average price by Gear box type'}, xlabel='Doors', ylabel='Average Price'>"
      ]
     },
     "execution_count": 52,
     "metadata": {},
     "output_type": "execute_result"
    },
    {
     "data": {
      "image/png": "[encoded data removed]",
      "text/plain": [
       "<Figure size 432x288 with 1 Axes>"
      ]
     },
     "metadata": {
      "needs_background": "light"
     },
     "output_type": "display_data"
    }
   ],
   "source": [
    "print(train_df.groupby('Doors')['Price'].mean())\n",
    "plt.title('Average price by Gear box type')\n",
    "plt.ylabel('Average Price')\n",
    "train_df.groupby('Doors')['Price'].mean().plot(kind = 'bar')"
   ]
  },
  {
   "cell_type": "markdown",
   "id": "f5047c1e",
   "metadata": {},
   "source": [
    "## Inference: \n",
    "\n",
    "- **`4 doors` car are most common category available.**\n",
    "- **Average price of `2 doors` have greater value as compared to other door types car, as these cars are luxury sports car, which is in tandem to their price levels.**"
   ]
  },
  {
   "cell_type": "code",
   "execution_count": 53,
   "id": "491bb48b",
   "metadata": {},
   "outputs": [
    {
     "data": {
      "text/plain": [
       "<AxesSubplot:title={'center':'Distribution of Doors present'}, xlabel='Wheel', ylabel='count'>"
      ]
     },
     "execution_count": 53,
     "metadata": {},
     "output_type": "execute_result"
    },
    {
     "data": {
      "image/png": "[encoded data removed]",
      "text/plain": [
       "<Figure size 1440x576 with 1 Axes>"
      ]
     },
     "metadata": {
      "needs_background": "light"
     },
     "output_type": "display_data"
    }
   ],
   "source": [
    "# Distribution the column 'Wheel'\n",
    "\n",
    "plt.figure(figsize=(20,8))\n",
    "\n",
    "plt.subplot(1,2,1)\n",
    "plt.title('Distribution of Doors present')\n",
    "sns.countplot(x = train_df['Wheel'], data = train_df, palette='viridis')\n"
   ]
  },
  {
   "cell_type": "code",
   "execution_count": 54,
   "id": "d264886b",
   "metadata": {},
   "outputs": [
    {
     "name": "stdout",
     "output_type": "stream",
     "text": [
      "Wheel\n",
      "Left wheel          19363.071425\n",
      "Right-hand drive     8900.111186\n",
      "Name: Price, dtype: float64\n"
     ]
    },
    {
     "data": {
      "text/plain": [
       "<AxesSubplot:title={'center':'Average price by Gear box type'}, xlabel='Wheel', ylabel='Average Price'>"
      ]
     },
     "execution_count": 54,
     "metadata": {},
     "output_type": "execute_result"
    },
    {
     "data": {
      "image/png": "[encoded data removed]",
      "text/plain": [
       "<Figure size 432x288 with 1 Axes>"
      ]
     },
     "metadata": {
      "needs_background": "light"
     },
     "output_type": "display_data"
    }
   ],
   "source": [
    "print(train_df.groupby('Wheel')['Price'].mean())\n",
    "plt.title('Average price by Gear box type')\n",
    "plt.ylabel('Average Price')\n",
    "train_df.groupby('Wheel')['Price'].mean().plot(kind = 'bar')"
   ]
  },
  {
   "cell_type": "markdown",
   "id": "0e8e1d05",
   "metadata": {},
   "source": [
    "- **`Left wheel` drive has the highest count in the car types.**"
   ]
  },
  {
   "cell_type": "code",
   "execution_count": 55,
   "id": "ce70f6af",
   "metadata": {},
   "outputs": [
    {
     "data": {
      "text/plain": [
       "<AxesSubplot:title={'center':'Distribution of Colors present'}, xlabel='Color', ylabel='count'>"
      ]
     },
     "execution_count": 55,
     "metadata": {},
     "output_type": "execute_result"
    },
    {
     "data": {
      "image/png": "[encoded data removed]",
      "text/plain": [
       "<Figure size 1440x576 with 1 Axes>"
      ]
     },
     "metadata": {
      "needs_background": "light"
     },
     "output_type": "display_data"
    }
   ],
   "source": [
    "plt.figure(figsize=(20,8))\n",
    "\n",
    "plt.subplot(1,2,1)\n",
    "plt.title('Distribution of Colors present')\n",
    "plt.xticks(rotation = 90)\n",
    "sns.countplot(x = train_df['Color'], data = train_df, palette='rainbow_r')\n"
   ]
  },
  {
   "cell_type": "code",
   "execution_count": 56,
   "id": "60fcfd12",
   "metadata": {},
   "outputs": [
    {
     "name": "stdout",
     "output_type": "stream",
     "text": [
      "Color\n",
      "Beige            15627.559701\n",
      "Black            18886.917346\n",
      "Blue             33726.850287\n",
      "Brown            19709.636364\n",
      "Carnelian red    15820.927374\n",
      "Golden           14678.551724\n",
      "Green             9449.677019\n",
      "Grey             19203.448000\n",
      "Orange           13008.422925\n",
      "Pink             10649.076923\n",
      "Purple            8837.384615\n",
      "Red              13553.275430\n",
      "Silver           15091.806962\n",
      "Sky blue         14079.000000\n",
      "White            18204.295389\n",
      "Yellow           20666.584906\n",
      "Name: Price, dtype: float64\n"
     ]
    },
    {
     "data": {
      "text/plain": [
       "<AxesSubplot:title={'center':'Average price by Color type'}, xlabel='Color', ylabel='Average Price'>"
      ]
     },
     "execution_count": 56,
     "metadata": {},
     "output_type": "execute_result"
    },
    {
     "data": {
      "image/png": "[encoded data removed]",
      "text/plain": [
       "<Figure size 432x288 with 1 Axes>"
      ]
     },
     "metadata": {
      "needs_background": "light"
     },
     "output_type": "display_data"
    }
   ],
   "source": [
    "print(train_df.groupby('Color')['Price'].mean())\n",
    "plt.title('Average price by Color type')\n",
    "plt.ylabel('Average Price')\n",
    "train_df.groupby('Color')['Price'].mean().plot(kind = 'bar')"
   ]
  },
  {
   "cell_type": "markdown",
   "id": "e92e1b61",
   "metadata": {},
   "source": [
    "- **The color `Black` is the most common color present for cars.**\n",
    "- **The average price for `Blue color` cars is the highest, this could be due multiple reasons, and would required further investigation**"
   ]
  },
  {
   "cell_type": "code",
   "execution_count": 57,
   "id": "dbdd803b",
   "metadata": {},
   "outputs": [],
   "source": [
    "train_df['Airbags'] = train_df['Airbags'].astype('int')\n",
    "test_df['Airbags'] = test_df['Airbags'].astype('int')"
   ]
  },
  {
   "cell_type": "code",
   "execution_count": 58,
   "id": "fcf6e0a5",
   "metadata": {},
   "outputs": [
    {
     "data": {
      "text/plain": [
       "<seaborn.axisgrid.FacetGrid at 0x12f4c0555b0>"
      ]
     },
     "execution_count": 58,
     "metadata": {},
     "output_type": "execute_result"
    },
    {
     "data": {
      "image/png": "[encoded data removed]",
      "text/plain": [
       "<Figure size 360x360 with 1 Axes>"
      ]
     },
     "metadata": {
      "needs_background": "light"
     },
     "output_type": "display_data"
    }
   ],
   "source": [
    "sns.displot(train_df['Airbags'])"
   ]
  },
  {
   "cell_type": "code",
   "execution_count": 59,
   "id": "6063a484",
   "metadata": {},
   "outputs": [
    {
     "name": "stdout",
     "output_type": "stream",
     "text": [
      "Airbags\n",
      "0     23406.698129\n",
      "1     10890.618421\n",
      "2     10599.031895\n",
      "3      8726.216216\n",
      "4     22573.902284\n",
      "5     10936.730769\n",
      "6     15700.722349\n",
      "7     16686.395349\n",
      "8     18435.202736\n",
      "9     20206.222222\n",
      "10    22946.287397\n",
      "11    17538.939394\n",
      "12    13856.812345\n",
      "13     6284.500000\n",
      "14    26659.400000\n",
      "15    39201.428571\n",
      "16    37318.741935\n",
      "Name: Price, dtype: float64\n"
     ]
    },
    {
     "data": {
      "text/plain": [
       "<AxesSubplot:title={'center':'Average price by Color type'}, xlabel='Airbags', ylabel='Average Price'>"
      ]
     },
     "execution_count": 59,
     "metadata": {},
     "output_type": "execute_result"
    },
    {
     "data": {
      "image/png": "[encoded data removed]",
      "text/plain": [
       "<Figure size 432x288 with 1 Axes>"
      ]
     },
     "metadata": {
      "needs_background": "light"
     },
     "output_type": "display_data"
    }
   ],
   "source": [
    "print(train_df.groupby('Airbags')['Price'].mean())\n",
    "plt.title('Average price by Color type')\n",
    "plt.ylabel('Average Price')\n",
    "train_df.groupby('Airbags')['Price'].mean().plot(kind = 'bar')"
   ]
  },
  {
   "cell_type": "code",
   "execution_count": 60,
   "id": "42b34f4a",
   "metadata": {},
   "outputs": [
    {
     "data": {
      "text/plain": [
       "<AxesSubplot:xlabel='Airbags', ylabel='Price'>"
      ]
     },
     "execution_count": 60,
     "metadata": {},
     "output_type": "execute_result"
    },
    {
     "data": {
      "image/png": "[encoded data removed]",
      "text/plain": [
       "<Figure size 432x288 with 1 Axes>"
      ]
     },
     "metadata": {
      "needs_background": "light"
     },
     "output_type": "display_data"
    }
   ],
   "source": [
    "sns.regplot(x = 'Airbags', y = 'Price', data = train_df)"
   ]
  },
  {
   "cell_type": "code",
   "execution_count": 61,
   "id": "99e494fa",
   "metadata": {},
   "outputs": [
    {
     "name": "stdout",
     "output_type": "stream",
     "text": [
      "<class 'pandas.core.frame.DataFrame'>\n",
      "RangeIndex: 19237 entries, 0 to 19236\n",
      "Data columns (total 20 columns):\n",
      " #   Column            Non-Null Count  Dtype \n",
      "---  ------            --------------  ----- \n",
      " 0   ID                19237 non-null  int64 \n",
      " 1   Price             19237 non-null  int64 \n",
      " 2   Levy              19237 non-null  object\n",
      " 3   Manufacturer      19237 non-null  object\n",
      " 4   Model             19237 non-null  object\n",
      " 5   Prod. year        19237 non-null  int64 \n",
      " 6   Category          19237 non-null  object\n",
      " 7   Leather interior  19237 non-null  object\n",
      " 8   Fuel type         19237 non-null  object\n",
      " 9   Engine volume     19237 non-null  object\n",
      " 10  Mileage           19237 non-null  int32 \n",
      " 11  Cylinders         19237 non-null  int32 \n",
      " 12  Gear box type     19237 non-null  object\n",
      " 13  Drive wheels      19237 non-null  object\n",
      " 14  Doors             19237 non-null  object\n",
      " 15  Wheel             19237 non-null  object\n",
      " 16  Color             19237 non-null  object\n",
      " 17  Airbags           19237 non-null  int32 \n",
      " 18  Age               19237 non-null  int64 \n",
      " 19  Turbo             19237 non-null  int64 \n",
      "dtypes: int32(3), int64(5), object(12)\n",
      "memory usage: 2.7+ MB\n"
     ]
    }
   ],
   "source": [
    "train_df.info()"
   ]
  },
  {
   "cell_type": "code",
   "execution_count": 62,
   "id": "9fe91a61",
   "metadata": {},
   "outputs": [
    {
     "name": "stdout",
     "output_type": "stream",
     "text": [
      "<class 'pandas.core.frame.DataFrame'>\n",
      "RangeIndex: 8245 entries, 0 to 8244\n",
      "Data columns (total 20 columns):\n",
      " #   Column            Non-Null Count  Dtype  \n",
      "---  ------            --------------  -----  \n",
      " 0   ID                8245 non-null   int64  \n",
      " 1   Levy              8245 non-null   object \n",
      " 2   Manufacturer      8245 non-null   object \n",
      " 3   Model             8245 non-null   object \n",
      " 4   Prod. year        8245 non-null   int64  \n",
      " 5   Category          8245 non-null   object \n",
      " 6   Leather interior  8245 non-null   object \n",
      " 7   Fuel type         8245 non-null   object \n",
      " 8   Engine volume     8245 non-null   object \n",
      " 9   Mileage           8245 non-null   int32  \n",
      " 10  Cylinders         8245 non-null   int32  \n",
      " 11  Gear box type     8245 non-null   object \n",
      " 12  Drive wheels      8245 non-null   object \n",
      " 13  Doors             8245 non-null   object \n",
      " 14  Wheel             8245 non-null   object \n",
      " 15  Color             8245 non-null   object \n",
      " 16  Airbags           8245 non-null   int32  \n",
      " 17  Price             0 non-null      float64\n",
      " 18  Age               8245 non-null   int64  \n",
      " 19  Turbo             8245 non-null   int64  \n",
      "dtypes: float64(1), int32(3), int64(4), object(12)\n",
      "memory usage: 1.2+ MB\n"
     ]
    }
   ],
   "source": [
    "test_df.info()"
   ]
  },
  {
   "cell_type": "code",
   "execution_count": 63,
   "id": "b7753495",
   "metadata": {},
   "outputs": [
    {
     "data": {
      "image/png": "[encoded data removed]",
      "text/plain": [
       "<Figure size 2160x1800 with 2 Axes>"
      ]
     },
     "metadata": {
      "needs_background": "light"
     },
     "output_type": "display_data"
    }
   ],
   "source": [
    "# Correlation plot\n",
    "\n",
    "plt.figure(figsize = (30, 25))\n",
    "sns.heatmap(train_df.corr(), annot = True, cmap=\"YlGnBu\")\n",
    "plt.show()"
   ]
  },
  {
   "cell_type": "code",
   "execution_count": 64,
   "id": "91906225",
   "metadata": {},
   "outputs": [
    {
     "data": {
      "text/plain": [
       "0        2010\n",
       "1        2011\n",
       "2        2006\n",
       "3        2011\n",
       "4        2014\n",
       "         ... \n",
       "19232    1999\n",
       "19233    2011\n",
       "19234    2010\n",
       "19235    2007\n",
       "19236    2012\n",
       "Name: Prod. year, Length: 19237, dtype: int64"
      ]
     },
     "execution_count": 64,
     "metadata": {},
     "output_type": "execute_result"
    }
   ],
   "source": [
    "# Dropping 'Prod. year' column, as it negatively correlated (-1) with 'Age'\n",
    "\n",
    "train_df.pop('Prod. year')"
   ]
  },
  {
   "cell_type": "code",
   "execution_count": 65,
   "id": "7574afe0",
   "metadata": {},
   "outputs": [
    {
     "data": {
      "text/plain": [
       "0       2012\n",
       "1       2012\n",
       "2       2005\n",
       "3       2012\n",
       "4       1993\n",
       "        ... \n",
       "8240    2004\n",
       "8241    2012\n",
       "8242    2015\n",
       "8243    2017\n",
       "8244    2012\n",
       "Name: Prod. year, Length: 8245, dtype: int64"
      ]
     },
     "execution_count": 65,
     "metadata": {},
     "output_type": "execute_result"
    }
   ],
   "source": [
    "test_df.pop('Prod. year')"
   ]
  },
  {
   "cell_type": "code",
   "execution_count": 66,
   "id": "6f6c6a0c",
   "metadata": {},
   "outputs": [],
   "source": [
    "# Dropping column 'Model', since it doesn't provide much information.\n",
    "\n",
    "del train_df['Model']\n",
    "del test_df['Model']"
   ]
  },
  {
   "cell_type": "code",
   "execution_count": 67,
   "id": "2c7abdfa",
   "metadata": {},
   "outputs": [],
   "source": [
    "def dummies(x,df): \n",
    "    '''returns Dataframe with dummified columns\n",
    "    args: x = column name, df = dataframe'''\n",
    "    \n",
    "    temp = pd.get_dummies(df[x], prefix=x, drop_first = True)\n",
    "    df = pd.concat([df, temp], axis = 1)\n",
    "    df.drop([x], axis = 1, inplace = True)\n",
    "    return df"
   ]
  },
  {
   "cell_type": "code",
   "execution_count": 68,
   "id": "b5be446e",
   "metadata": {},
   "outputs": [
    {
     "data": {
      "text/plain": [
       "Index(['Levy', 'Manufacturer', 'Category', 'Leather interior', 'Fuel type',\n",
       "       'Engine volume', 'Gear box type', 'Drive wheels', 'Doors', 'Wheel',\n",
       "       'Color'],\n",
       "      dtype='object')"
      ]
     },
     "execution_count": 68,
     "metadata": {},
     "output_type": "execute_result"
    }
   ],
   "source": [
    "train_df.select_dtypes('object').columns"
   ]
  },
  {
   "cell_type": "code",
   "execution_count": 69,
   "id": "0410f596",
   "metadata": {},
   "outputs": [
    {
     "data": {
      "text/plain": [
       "Index(['Mileage', 'Cylinders', 'Airbags', 'ID', 'Price', 'Age', 'Turbo'], dtype='object')"
      ]
     },
     "execution_count": 69,
     "metadata": {},
     "output_type": "execute_result"
    }
   ],
   "source": [
    "train_df.select_dtypes('int').columns.append(train_df.select_dtypes('int64').columns)"
   ]
  },
  {
   "cell_type": "code",
   "execution_count": 70,
   "id": "2eb3709e",
   "metadata": {},
   "outputs": [],
   "source": [
    "train_df['Levy'] = train_df['Levy'].astype('int')\n",
    "test_df['Levy'] = test_df['Levy'].astype('int')"
   ]
  },
  {
   "cell_type": "code",
   "execution_count": 71,
   "id": "a526308b",
   "metadata": {},
   "outputs": [],
   "source": [
    "train_df['train'] = 1\n",
    "test_df['train'] = 0"
   ]
  },
  {
   "cell_type": "code",
   "execution_count": 72,
   "id": "a2195edd",
   "metadata": {},
   "outputs": [],
   "source": [
    "combined_df = pd.concat([train_df, test_df])"
   ]
  },
  {
   "cell_type": "code",
   "execution_count": 73,
   "id": "9879696e",
   "metadata": {},
   "outputs": [],
   "source": [
    "combined_df = dummies('Manufacturer', combined_df)\n",
    "combined_df = dummies('Category', combined_df)\n",
    "combined_df = dummies('Leather interior', combined_df)\n",
    "combined_df = dummies('Fuel type', combined_df)\n",
    "combined_df = dummies('Engine volume', combined_df)\n",
    "combined_df = dummies('Gear box type', combined_df)\n",
    "combined_df = dummies('Drive wheels', combined_df)\n",
    "combined_df = dummies('Doors', combined_df)\n",
    "combined_df = dummies('Wheel', combined_df)\n",
    "combined_df = dummies('Color', combined_df)"
   ]
  },
  {
   "cell_type": "code",
   "execution_count": 74,
   "id": "63476ed5",
   "metadata": {},
   "outputs": [
    {
     "data": {
      "text/html": [
       "<div>\n",
       "<style scoped>\n",
       "    .dataframe tbody tr th:only-of-type {\n",
       "        vertical-align: middle;\n",
       "    }\n",
       "\n",
       "    .dataframe tbody tr th {\n",
       "        vertical-align: top;\n",
       "    }\n",
       "\n",
       "    .dataframe thead th {\n",
       "        text-align: right;\n",
       "    }\n",
       "</style>\n",
       "<table border=\"1\" class=\"dataframe\">\n",
       "  <thead>\n",
       "    <tr style=\"text-align: right;\">\n",
       "      <th></th>\n",
       "      <th>ID</th>\n",
       "      <th>Price</th>\n",
       "      <th>Levy</th>\n",
       "      <th>Mileage</th>\n",
       "      <th>Cylinders</th>\n",
       "      <th>Airbags</th>\n",
       "      <th>Age</th>\n",
       "      <th>Turbo</th>\n",
       "      <th>train</th>\n",
       "      <th>Manufacturer_ALFA ROMEO</th>\n",
       "      <th>...</th>\n",
       "      <th>Color_Green</th>\n",
       "      <th>Color_Grey</th>\n",
       "      <th>Color_Orange</th>\n",
       "      <th>Color_Pink</th>\n",
       "      <th>Color_Purple</th>\n",
       "      <th>Color_Red</th>\n",
       "      <th>Color_Silver</th>\n",
       "      <th>Color_Sky blue</th>\n",
       "      <th>Color_White</th>\n",
       "      <th>Color_Yellow</th>\n",
       "    </tr>\n",
       "  </thead>\n",
       "  <tbody>\n",
       "    <tr>\n",
       "      <th>0</th>\n",
       "      <td>45654403</td>\n",
       "      <td>13328.0</td>\n",
       "      <td>1399</td>\n",
       "      <td>186005</td>\n",
       "      <td>6</td>\n",
       "      <td>12</td>\n",
       "      <td>11</td>\n",
       "      <td>0</td>\n",
       "      <td>1</td>\n",
       "      <td>0</td>\n",
       "      <td>...</td>\n",
       "      <td>0</td>\n",
       "      <td>0</td>\n",
       "      <td>0</td>\n",
       "      <td>0</td>\n",
       "      <td>0</td>\n",
       "      <td>0</td>\n",
       "      <td>1</td>\n",
       "      <td>0</td>\n",
       "      <td>0</td>\n",
       "      <td>0</td>\n",
       "    </tr>\n",
       "    <tr>\n",
       "      <th>1</th>\n",
       "      <td>44731507</td>\n",
       "      <td>16621.0</td>\n",
       "      <td>1018</td>\n",
       "      <td>192000</td>\n",
       "      <td>6</td>\n",
       "      <td>8</td>\n",
       "      <td>10</td>\n",
       "      <td>0</td>\n",
       "      <td>1</td>\n",
       "      <td>0</td>\n",
       "      <td>...</td>\n",
       "      <td>0</td>\n",
       "      <td>0</td>\n",
       "      <td>0</td>\n",
       "      <td>0</td>\n",
       "      <td>0</td>\n",
       "      <td>0</td>\n",
       "      <td>0</td>\n",
       "      <td>0</td>\n",
       "      <td>0</td>\n",
       "      <td>0</td>\n",
       "    </tr>\n",
       "    <tr>\n",
       "      <th>2</th>\n",
       "      <td>45774419</td>\n",
       "      <td>8467.0</td>\n",
       "      <td>0</td>\n",
       "      <td>200000</td>\n",
       "      <td>4</td>\n",
       "      <td>2</td>\n",
       "      <td>15</td>\n",
       "      <td>0</td>\n",
       "      <td>1</td>\n",
       "      <td>0</td>\n",
       "      <td>...</td>\n",
       "      <td>0</td>\n",
       "      <td>0</td>\n",
       "      <td>0</td>\n",
       "      <td>0</td>\n",
       "      <td>0</td>\n",
       "      <td>0</td>\n",
       "      <td>0</td>\n",
       "      <td>0</td>\n",
       "      <td>0</td>\n",
       "      <td>0</td>\n",
       "    </tr>\n",
       "    <tr>\n",
       "      <th>3</th>\n",
       "      <td>45769185</td>\n",
       "      <td>3607.0</td>\n",
       "      <td>862</td>\n",
       "      <td>168966</td>\n",
       "      <td>4</td>\n",
       "      <td>0</td>\n",
       "      <td>10</td>\n",
       "      <td>0</td>\n",
       "      <td>1</td>\n",
       "      <td>0</td>\n",
       "      <td>...</td>\n",
       "      <td>0</td>\n",
       "      <td>0</td>\n",
       "      <td>0</td>\n",
       "      <td>0</td>\n",
       "      <td>0</td>\n",
       "      <td>0</td>\n",
       "      <td>0</td>\n",
       "      <td>0</td>\n",
       "      <td>1</td>\n",
       "      <td>0</td>\n",
       "    </tr>\n",
       "    <tr>\n",
       "      <th>4</th>\n",
       "      <td>45809263</td>\n",
       "      <td>11726.0</td>\n",
       "      <td>446</td>\n",
       "      <td>91901</td>\n",
       "      <td>4</td>\n",
       "      <td>4</td>\n",
       "      <td>7</td>\n",
       "      <td>0</td>\n",
       "      <td>1</td>\n",
       "      <td>0</td>\n",
       "      <td>...</td>\n",
       "      <td>0</td>\n",
       "      <td>0</td>\n",
       "      <td>0</td>\n",
       "      <td>0</td>\n",
       "      <td>0</td>\n",
       "      <td>0</td>\n",
       "      <td>1</td>\n",
       "      <td>0</td>\n",
       "      <td>0</td>\n",
       "      <td>0</td>\n",
       "    </tr>\n",
       "  </tbody>\n",
       "</table>\n",
       "<p>5 rows × 189 columns</p>\n",
       "</div>"
      ],
      "text/plain": [
       "         ID    Price  Levy  Mileage  Cylinders  Airbags  Age  Turbo  train  \\\n",
       "0  45654403  13328.0  1399   186005          6       12   11      0      1   \n",
       "1  44731507  16621.0  1018   192000          6        8   10      0      1   \n",
       "2  45774419   8467.0     0   200000          4        2   15      0      1   \n",
       "3  45769185   3607.0   862   168966          4        0   10      0      1   \n",
       "4  45809263  11726.0   446    91901          4        4    7      0      1   \n",
       "\n",
       "   Manufacturer_ALFA ROMEO  ...  Color_Green  Color_Grey  Color_Orange  \\\n",
       "0                        0  ...            0           0             0   \n",
       "1                        0  ...            0           0             0   \n",
       "2                        0  ...            0           0             0   \n",
       "3                        0  ...            0           0             0   \n",
       "4                        0  ...            0           0             0   \n",
       "\n",
       "   Color_Pink  Color_Purple  Color_Red  Color_Silver  Color_Sky blue  \\\n",
       "0           0             0          0             1               0   \n",
       "1           0             0          0             0               0   \n",
       "2           0             0          0             0               0   \n",
       "3           0             0          0             0               0   \n",
       "4           0             0          0             1               0   \n",
       "\n",
       "   Color_White  Color_Yellow  \n",
       "0            0             0  \n",
       "1            0             0  \n",
       "2            0             0  \n",
       "3            1             0  \n",
       "4            0             0  \n",
       "\n",
       "[5 rows x 189 columns]"
      ]
     },
     "execution_count": 74,
     "metadata": {},
     "output_type": "execute_result"
    }
   ],
   "source": [
    "combined_df.head()"
   ]
  },
  {
   "cell_type": "code",
   "execution_count": 75,
   "id": "8161328f",
   "metadata": {},
   "outputs": [
    {
     "name": "stdout",
     "output_type": "stream",
     "text": [
      "<class 'pandas.core.frame.DataFrame'>\n",
      "Int64Index: 27482 entries, 0 to 8244\n",
      "Columns: 189 entries, ID to Color_Yellow\n",
      "dtypes: float64(1), int32(4), int64(4), uint8(180)\n",
      "memory usage: 6.4 MB\n"
     ]
    }
   ],
   "source": [
    "combined_df.info()"
   ]
  },
  {
   "cell_type": "code",
   "execution_count": 76,
   "id": "82b2b37e",
   "metadata": {},
   "outputs": [],
   "source": [
    "train_df = combined_df[combined_df['train'] == 1]\n",
    "test_df = combined_df[combined_df['train'] == 0]"
   ]
  },
  {
   "cell_type": "code",
   "execution_count": 77,
   "id": "de52a3d3",
   "metadata": {},
   "outputs": [
    {
     "name": "stderr",
     "output_type": "stream",
     "text": [
      "C:\\Users\\suraj\\anaconda3\\lib\\site-packages\\pandas\\core\\frame.py:4308: SettingWithCopyWarning: \n",
      "A value is trying to be set on a copy of a slice from a DataFrame\n",
      "\n",
      "See the caveats in the documentation: https://pandas.pydata.org/pandas-docs/stable/user_guide/indexing.html#returning-a-view-versus-a-copy\n",
      "  return super().drop(\n"
     ]
    }
   ],
   "source": [
    "train_df.drop(['train'], axis = 1, inplace = True)\n",
    "test_df.drop(['train'], axis =1, inplace = True)"
   ]
  },
  {
   "cell_type": "code",
   "execution_count": 78,
   "id": "f87f92eb",
   "metadata": {},
   "outputs": [
    {
     "data": {
      "text/html": [
       "<div>\n",
       "<style scoped>\n",
       "    .dataframe tbody tr th:only-of-type {\n",
       "        vertical-align: middle;\n",
       "    }\n",
       "\n",
       "    .dataframe tbody tr th {\n",
       "        vertical-align: top;\n",
       "    }\n",
       "\n",
       "    .dataframe thead th {\n",
       "        text-align: right;\n",
       "    }\n",
       "</style>\n",
       "<table border=\"1\" class=\"dataframe\">\n",
       "  <thead>\n",
       "    <tr style=\"text-align: right;\">\n",
       "      <th></th>\n",
       "      <th>ID</th>\n",
       "      <th>Price</th>\n",
       "      <th>Levy</th>\n",
       "      <th>Mileage</th>\n",
       "      <th>Cylinders</th>\n",
       "      <th>Airbags</th>\n",
       "      <th>Age</th>\n",
       "      <th>Turbo</th>\n",
       "      <th>Manufacturer_ALFA ROMEO</th>\n",
       "      <th>Manufacturer_ASTON MARTIN</th>\n",
       "      <th>...</th>\n",
       "      <th>Color_Green</th>\n",
       "      <th>Color_Grey</th>\n",
       "      <th>Color_Orange</th>\n",
       "      <th>Color_Pink</th>\n",
       "      <th>Color_Purple</th>\n",
       "      <th>Color_Red</th>\n",
       "      <th>Color_Silver</th>\n",
       "      <th>Color_Sky blue</th>\n",
       "      <th>Color_White</th>\n",
       "      <th>Color_Yellow</th>\n",
       "    </tr>\n",
       "  </thead>\n",
       "  <tbody>\n",
       "    <tr>\n",
       "      <th>0</th>\n",
       "      <td>45654403</td>\n",
       "      <td>13328.0</td>\n",
       "      <td>1399</td>\n",
       "      <td>186005</td>\n",
       "      <td>6</td>\n",
       "      <td>12</td>\n",
       "      <td>11</td>\n",
       "      <td>0</td>\n",
       "      <td>0</td>\n",
       "      <td>0</td>\n",
       "      <td>...</td>\n",
       "      <td>0</td>\n",
       "      <td>0</td>\n",
       "      <td>0</td>\n",
       "      <td>0</td>\n",
       "      <td>0</td>\n",
       "      <td>0</td>\n",
       "      <td>1</td>\n",
       "      <td>0</td>\n",
       "      <td>0</td>\n",
       "      <td>0</td>\n",
       "    </tr>\n",
       "    <tr>\n",
       "      <th>1</th>\n",
       "      <td>44731507</td>\n",
       "      <td>16621.0</td>\n",
       "      <td>1018</td>\n",
       "      <td>192000</td>\n",
       "      <td>6</td>\n",
       "      <td>8</td>\n",
       "      <td>10</td>\n",
       "      <td>0</td>\n",
       "      <td>0</td>\n",
       "      <td>0</td>\n",
       "      <td>...</td>\n",
       "      <td>0</td>\n",
       "      <td>0</td>\n",
       "      <td>0</td>\n",
       "      <td>0</td>\n",
       "      <td>0</td>\n",
       "      <td>0</td>\n",
       "      <td>0</td>\n",
       "      <td>0</td>\n",
       "      <td>0</td>\n",
       "      <td>0</td>\n",
       "    </tr>\n",
       "    <tr>\n",
       "      <th>2</th>\n",
       "      <td>45774419</td>\n",
       "      <td>8467.0</td>\n",
       "      <td>0</td>\n",
       "      <td>200000</td>\n",
       "      <td>4</td>\n",
       "      <td>2</td>\n",
       "      <td>15</td>\n",
       "      <td>0</td>\n",
       "      <td>0</td>\n",
       "      <td>0</td>\n",
       "      <td>...</td>\n",
       "      <td>0</td>\n",
       "      <td>0</td>\n",
       "      <td>0</td>\n",
       "      <td>0</td>\n",
       "      <td>0</td>\n",
       "      <td>0</td>\n",
       "      <td>0</td>\n",
       "      <td>0</td>\n",
       "      <td>0</td>\n",
       "      <td>0</td>\n",
       "    </tr>\n",
       "    <tr>\n",
       "      <th>3</th>\n",
       "      <td>45769185</td>\n",
       "      <td>3607.0</td>\n",
       "      <td>862</td>\n",
       "      <td>168966</td>\n",
       "      <td>4</td>\n",
       "      <td>0</td>\n",
       "      <td>10</td>\n",
       "      <td>0</td>\n",
       "      <td>0</td>\n",
       "      <td>0</td>\n",
       "      <td>...</td>\n",
       "      <td>0</td>\n",
       "      <td>0</td>\n",
       "      <td>0</td>\n",
       "      <td>0</td>\n",
       "      <td>0</td>\n",
       "      <td>0</td>\n",
       "      <td>0</td>\n",
       "      <td>0</td>\n",
       "      <td>1</td>\n",
       "      <td>0</td>\n",
       "    </tr>\n",
       "    <tr>\n",
       "      <th>4</th>\n",
       "      <td>45809263</td>\n",
       "      <td>11726.0</td>\n",
       "      <td>446</td>\n",
       "      <td>91901</td>\n",
       "      <td>4</td>\n",
       "      <td>4</td>\n",
       "      <td>7</td>\n",
       "      <td>0</td>\n",
       "      <td>0</td>\n",
       "      <td>0</td>\n",
       "      <td>...</td>\n",
       "      <td>0</td>\n",
       "      <td>0</td>\n",
       "      <td>0</td>\n",
       "      <td>0</td>\n",
       "      <td>0</td>\n",
       "      <td>0</td>\n",
       "      <td>1</td>\n",
       "      <td>0</td>\n",
       "      <td>0</td>\n",
       "      <td>0</td>\n",
       "    </tr>\n",
       "  </tbody>\n",
       "</table>\n",
       "<p>5 rows × 188 columns</p>\n",
       "</div>"
      ],
      "text/plain": [
       "         ID    Price  Levy  Mileage  Cylinders  Airbags  Age  Turbo  \\\n",
       "0  45654403  13328.0  1399   186005          6       12   11      0   \n",
       "1  44731507  16621.0  1018   192000          6        8   10      0   \n",
       "2  45774419   8467.0     0   200000          4        2   15      0   \n",
       "3  45769185   3607.0   862   168966          4        0   10      0   \n",
       "4  45809263  11726.0   446    91901          4        4    7      0   \n",
       "\n",
       "   Manufacturer_ALFA ROMEO  Manufacturer_ASTON MARTIN  ...  Color_Green  \\\n",
       "0                        0                          0  ...            0   \n",
       "1                        0                          0  ...            0   \n",
       "2                        0                          0  ...            0   \n",
       "3                        0                          0  ...            0   \n",
       "4                        0                          0  ...            0   \n",
       "\n",
       "   Color_Grey  Color_Orange  Color_Pink  Color_Purple  Color_Red  \\\n",
       "0           0             0           0             0          0   \n",
       "1           0             0           0             0          0   \n",
       "2           0             0           0             0          0   \n",
       "3           0             0           0             0          0   \n",
       "4           0             0           0             0          0   \n",
       "\n",
       "   Color_Silver  Color_Sky blue  Color_White  Color_Yellow  \n",
       "0             1               0            0             0  \n",
       "1             0               0            0             0  \n",
       "2             0               0            0             0  \n",
       "3             0               0            1             0  \n",
       "4             1               0            0             0  \n",
       "\n",
       "[5 rows x 188 columns]"
      ]
     },
     "execution_count": 78,
     "metadata": {},
     "output_type": "execute_result"
    }
   ],
   "source": [
    "train_df.head()"
   ]
  },
  {
   "cell_type": "code",
   "execution_count": 79,
   "id": "c557d8a2",
   "metadata": {},
   "outputs": [],
   "source": [
    "from sklearn.preprocessing import StandardScaler,scale\n",
    "#we create an object of the class StandardScaler\n",
    "sc = StandardScaler() "
   ]
  },
  {
   "cell_type": "code",
   "execution_count": 80,
   "id": "25c93905",
   "metadata": {},
   "outputs": [
    {
     "data": {
      "text/plain": [
       "['Levy', 'Mileage', 'Cylinders', 'Airbags']"
      ]
     },
     "execution_count": 80,
     "metadata": {},
     "output_type": "execute_result"
    }
   ],
   "source": [
    "train_df.select_dtypes('int').columns.tolist()"
   ]
  },
  {
   "cell_type": "code",
   "execution_count": 81,
   "id": "d5d47e46",
   "metadata": {},
   "outputs": [],
   "source": [
    "# Columns to scale\n",
    "\n",
    "col_to_scale = train_df.select_dtypes('int').columns.tolist()"
   ]
  },
  {
   "cell_type": "code",
   "execution_count": 82,
   "id": "a8b450cf",
   "metadata": {},
   "outputs": [],
   "source": [
    "col_to_scale.append('Age')"
   ]
  },
  {
   "cell_type": "code",
   "execution_count": 83,
   "id": "69493b47",
   "metadata": {},
   "outputs": [
    {
     "data": {
      "text/plain": [
       "['Levy', 'Mileage', 'Cylinders', 'Airbags', 'Age']"
      ]
     },
     "execution_count": 83,
     "metadata": {},
     "output_type": "execute_result"
    }
   ],
   "source": [
    "col_to_scale # final list to scale"
   ]
  },
  {
   "cell_type": "code",
   "execution_count": 84,
   "id": "5106e882",
   "metadata": {},
   "outputs": [
    {
     "name": "stderr",
     "output_type": "stream",
     "text": [
      "<ipython-input-84-b0327a599d41>:1: SettingWithCopyWarning: \n",
      "A value is trying to be set on a copy of a slice from a DataFrame.\n",
      "Try using .loc[row_indexer,col_indexer] = value instead\n",
      "\n",
      "See the caveats in the documentation: https://pandas.pydata.org/pandas-docs/stable/user_guide/indexing.html#returning-a-view-versus-a-copy\n",
      "  train_df[col_to_scale] = sc.fit_transform(train_df[col_to_scale])\n",
      "C:\\Users\\suraj\\anaconda3\\lib\\site-packages\\pandas\\core\\indexing.py:1738: SettingWithCopyWarning: \n",
      "A value is trying to be set on a copy of a slice from a DataFrame.\n",
      "Try using .loc[row_indexer,col_indexer] = value instead\n",
      "\n",
      "See the caveats in the documentation: https://pandas.pydata.org/pandas-docs/stable/user_guide/indexing.html#returning-a-view-versus-a-copy\n",
      "  self._setitem_single_column(loc, value[:, i].tolist(), pi)\n",
      "<ipython-input-84-b0327a599d41>:2: SettingWithCopyWarning: \n",
      "A value is trying to be set on a copy of a slice from a DataFrame.\n",
      "Try using .loc[row_indexer,col_indexer] = value instead\n",
      "\n",
      "See the caveats in the documentation: https://pandas.pydata.org/pandas-docs/stable/user_guide/indexing.html#returning-a-view-versus-a-copy\n",
      "  test_df[col_to_scale] = sc.fit_transform(test_df[col_to_scale])\n",
      "C:\\Users\\suraj\\anaconda3\\lib\\site-packages\\pandas\\core\\indexing.py:1738: SettingWithCopyWarning: \n",
      "A value is trying to be set on a copy of a slice from a DataFrame.\n",
      "Try using .loc[row_indexer,col_indexer] = value instead\n",
      "\n",
      "See the caveats in the documentation: https://pandas.pydata.org/pandas-docs/stable/user_guide/indexing.html#returning-a-view-versus-a-copy\n",
      "  self._setitem_single_column(loc, value[:, i].tolist(), pi)\n"
     ]
    },
    {
     "data": {
      "text/html": [
       "<div>\n",
       "<style scoped>\n",
       "    .dataframe tbody tr th:only-of-type {\n",
       "        vertical-align: middle;\n",
       "    }\n",
       "\n",
       "    .dataframe tbody tr th {\n",
       "        vertical-align: top;\n",
       "    }\n",
       "\n",
       "    .dataframe thead th {\n",
       "        text-align: right;\n",
       "    }\n",
       "</style>\n",
       "<table border=\"1\" class=\"dataframe\">\n",
       "  <thead>\n",
       "    <tr style=\"text-align: right;\">\n",
       "      <th></th>\n",
       "      <th>ID</th>\n",
       "      <th>Price</th>\n",
       "      <th>Levy</th>\n",
       "      <th>Mileage</th>\n",
       "      <th>Cylinders</th>\n",
       "      <th>Airbags</th>\n",
       "      <th>Age</th>\n",
       "      <th>Turbo</th>\n",
       "      <th>Manufacturer_ALFA ROMEO</th>\n",
       "      <th>Manufacturer_ASTON MARTIN</th>\n",
       "      <th>...</th>\n",
       "      <th>Color_Green</th>\n",
       "      <th>Color_Grey</th>\n",
       "      <th>Color_Orange</th>\n",
       "      <th>Color_Pink</th>\n",
       "      <th>Color_Purple</th>\n",
       "      <th>Color_Red</th>\n",
       "      <th>Color_Silver</th>\n",
       "      <th>Color_Sky blue</th>\n",
       "      <th>Color_White</th>\n",
       "      <th>Color_Yellow</th>\n",
       "    </tr>\n",
       "  </thead>\n",
       "  <tbody>\n",
       "    <tr>\n",
       "      <th>0</th>\n",
       "      <td>45654403</td>\n",
       "      <td>13328.0</td>\n",
       "      <td>1.350118</td>\n",
       "      <td>-0.027911</td>\n",
       "      <td>1.180792</td>\n",
       "      <td>1.254005</td>\n",
       "      <td>0.161034</td>\n",
       "      <td>0</td>\n",
       "      <td>0</td>\n",
       "      <td>0</td>\n",
       "      <td>...</td>\n",
       "      <td>0</td>\n",
       "      <td>0</td>\n",
       "      <td>0</td>\n",
       "      <td>0</td>\n",
       "      <td>0</td>\n",
       "      <td>0</td>\n",
       "      <td>1</td>\n",
       "      <td>0</td>\n",
       "      <td>0</td>\n",
       "      <td>0</td>\n",
       "    </tr>\n",
       "    <tr>\n",
       "      <th>1</th>\n",
       "      <td>44731507</td>\n",
       "      <td>16621.0</td>\n",
       "      <td>0.678997</td>\n",
       "      <td>-0.027787</td>\n",
       "      <td>1.180792</td>\n",
       "      <td>0.328091</td>\n",
       "      <td>-0.015379</td>\n",
       "      <td>0</td>\n",
       "      <td>0</td>\n",
       "      <td>0</td>\n",
       "      <td>...</td>\n",
       "      <td>0</td>\n",
       "      <td>0</td>\n",
       "      <td>0</td>\n",
       "      <td>0</td>\n",
       "      <td>0</td>\n",
       "      <td>0</td>\n",
       "      <td>0</td>\n",
       "      <td>0</td>\n",
       "      <td>0</td>\n",
       "      <td>0</td>\n",
       "    </tr>\n",
       "    <tr>\n",
       "      <th>2</th>\n",
       "      <td>45774419</td>\n",
       "      <td>8467.0</td>\n",
       "      <td>-1.114182</td>\n",
       "      <td>-0.027622</td>\n",
       "      <td>-0.485439</td>\n",
       "      <td>-1.060780</td>\n",
       "      <td>0.866685</td>\n",
       "      <td>0</td>\n",
       "      <td>0</td>\n",
       "      <td>0</td>\n",
       "      <td>...</td>\n",
       "      <td>0</td>\n",
       "      <td>0</td>\n",
       "      <td>0</td>\n",
       "      <td>0</td>\n",
       "      <td>0</td>\n",
       "      <td>0</td>\n",
       "      <td>0</td>\n",
       "      <td>0</td>\n",
       "      <td>0</td>\n",
       "      <td>0</td>\n",
       "    </tr>\n",
       "    <tr>\n",
       "      <th>3</th>\n",
       "      <td>45769185</td>\n",
       "      <td>3607.0</td>\n",
       "      <td>0.404207</td>\n",
       "      <td>-0.028263</td>\n",
       "      <td>-0.485439</td>\n",
       "      <td>-1.523737</td>\n",
       "      <td>-0.015379</td>\n",
       "      <td>0</td>\n",
       "      <td>0</td>\n",
       "      <td>0</td>\n",
       "      <td>...</td>\n",
       "      <td>0</td>\n",
       "      <td>0</td>\n",
       "      <td>0</td>\n",
       "      <td>0</td>\n",
       "      <td>0</td>\n",
       "      <td>0</td>\n",
       "      <td>0</td>\n",
       "      <td>0</td>\n",
       "      <td>1</td>\n",
       "      <td>0</td>\n",
       "    </tr>\n",
       "    <tr>\n",
       "      <th>4</th>\n",
       "      <td>45809263</td>\n",
       "      <td>11726.0</td>\n",
       "      <td>-0.328565</td>\n",
       "      <td>-0.029855</td>\n",
       "      <td>-0.485439</td>\n",
       "      <td>-0.597823</td>\n",
       "      <td>-0.544617</td>\n",
       "      <td>0</td>\n",
       "      <td>0</td>\n",
       "      <td>0</td>\n",
       "      <td>...</td>\n",
       "      <td>0</td>\n",
       "      <td>0</td>\n",
       "      <td>0</td>\n",
       "      <td>0</td>\n",
       "      <td>0</td>\n",
       "      <td>0</td>\n",
       "      <td>1</td>\n",
       "      <td>0</td>\n",
       "      <td>0</td>\n",
       "      <td>0</td>\n",
       "    </tr>\n",
       "  </tbody>\n",
       "</table>\n",
       "<p>5 rows × 188 columns</p>\n",
       "</div>"
      ],
      "text/plain": [
       "         ID    Price      Levy   Mileage  Cylinders   Airbags       Age  \\\n",
       "0  45654403  13328.0  1.350118 -0.027911   1.180792  1.254005  0.161034   \n",
       "1  44731507  16621.0  0.678997 -0.027787   1.180792  0.328091 -0.015379   \n",
       "2  45774419   8467.0 -1.114182 -0.027622  -0.485439 -1.060780  0.866685   \n",
       "3  45769185   3607.0  0.404207 -0.028263  -0.485439 -1.523737 -0.015379   \n",
       "4  45809263  11726.0 -0.328565 -0.029855  -0.485439 -0.597823 -0.544617   \n",
       "\n",
       "   Turbo  Manufacturer_ALFA ROMEO  Manufacturer_ASTON MARTIN  ...  \\\n",
       "0      0                        0                          0  ...   \n",
       "1      0                        0                          0  ...   \n",
       "2      0                        0                          0  ...   \n",
       "3      0                        0                          0  ...   \n",
       "4      0                        0                          0  ...   \n",
       "\n",
       "   Color_Green  Color_Grey  Color_Orange  Color_Pink  Color_Purple  Color_Red  \\\n",
       "0            0           0             0           0             0          0   \n",
       "1            0           0             0           0             0          0   \n",
       "2            0           0             0           0             0          0   \n",
       "3            0           0             0           0             0          0   \n",
       "4            0           0             0           0             0          0   \n",
       "\n",
       "   Color_Silver  Color_Sky blue  Color_White  Color_Yellow  \n",
       "0             1               0            0             0  \n",
       "1             0               0            0             0  \n",
       "2             0               0            0             0  \n",
       "3             0               0            1             0  \n",
       "4             1               0            0             0  \n",
       "\n",
       "[5 rows x 188 columns]"
      ]
     },
     "execution_count": 84,
     "metadata": {},
     "output_type": "execute_result"
    }
   ],
   "source": [
    "train_df[col_to_scale] = sc.fit_transform(train_df[col_to_scale])\n",
    "test_df[col_to_scale] = sc.fit_transform(test_df[col_to_scale])\n",
    "\n",
    "train_df.head()"
   ]
  },
  {
   "cell_type": "code",
   "execution_count": 85,
   "id": "f5cfa600",
   "metadata": {},
   "outputs": [],
   "source": [
    "from sklearn.model_selection import train_test_split"
   ]
  },
  {
   "cell_type": "code",
   "execution_count": 86,
   "id": "6f97bfc4",
   "metadata": {},
   "outputs": [],
   "source": [
    "del train_df['ID']\n",
    "\n",
    "test_id = test_df['ID']\n",
    "\n",
    "del test_df['ID']"
   ]
  },
  {
   "cell_type": "code",
   "execution_count": 87,
   "id": "9625fb40",
   "metadata": {},
   "outputs": [],
   "source": [
    "X = train_df.drop(['Price'], axis = 1)\n",
    "y = train_df['Price']"
   ]
  },
  {
   "cell_type": "code",
   "execution_count": 88,
   "id": "5169b165",
   "metadata": {},
   "outputs": [],
   "source": [
    "X_train, X_val, y_train, y_val = train_test_split(X, y, test_size=0.33, random_state=42)"
   ]
  },
  {
   "cell_type": "code",
   "execution_count": 89,
   "id": "e6b4e4a7",
   "metadata": {},
   "outputs": [],
   "source": [
    "del test_df['Price']"
   ]
  },
  {
   "cell_type": "code",
   "execution_count": 90,
   "id": "33e6e2b9",
   "metadata": {},
   "outputs": [
    {
     "data": {
      "text/plain": [
       "187"
      ]
     },
     "execution_count": 90,
     "metadata": {},
     "output_type": "execute_result"
    }
   ],
   "source": [
    "len(train_df.columns)"
   ]
  },
  {
   "cell_type": "code",
   "execution_count": 91,
   "id": "57ec870f",
   "metadata": {},
   "outputs": [
    {
     "data": {
      "text/plain": [
       "186"
      ]
     },
     "execution_count": 91,
     "metadata": {},
     "output_type": "execute_result"
    }
   ],
   "source": [
    "len(test_df.columns)"
   ]
  },
  {
   "cell_type": "code",
   "execution_count": 107,
   "id": "e09bb8a5",
   "metadata": {},
   "outputs": [],
   "source": [
    "from sklearn.ensemble import RandomForestRegressor"
   ]
  },
  {
   "cell_type": "code",
   "execution_count": 114,
   "id": "ca6e287d",
   "metadata": {},
   "outputs": [],
   "source": [
    "rfr = RandomForestRegressor(random_state = 1)"
   ]
  },
  {
   "cell_type": "code",
   "execution_count": 116,
   "id": "90248e27",
   "metadata": {},
   "outputs": [],
   "source": [
    "from sklearn.model_selection import RandomizedSearchCV"
   ]
  },
  {
   "cell_type": "code",
   "execution_count": 117,
   "id": "7baa1c9d",
   "metadata": {},
   "outputs": [],
   "source": [
    "n_estimators = [int(x) for x in np.linspace(start = 5 , stop = 15, num = 10)]"
   ]
  },
  {
   "cell_type": "code",
   "execution_count": 118,
   "id": "be6a447a",
   "metadata": {},
   "outputs": [],
   "source": [
    "max_features = ['auto', 'log2']"
   ]
  },
  {
   "cell_type": "code",
   "execution_count": 119,
   "id": "c2071c19",
   "metadata": {},
   "outputs": [],
   "source": [
    "max_depth = [int(x) for x in np.linspace(5, 10, num = 2)]"
   ]
  },
  {
   "cell_type": "code",
   "execution_count": 120,
   "id": "efa42ee0",
   "metadata": {},
   "outputs": [],
   "source": [
    "max_depth.append(None)"
   ]
  },
  {
   "cell_type": "code",
   "execution_count": 121,
   "id": "a7de21ca",
   "metadata": {},
   "outputs": [],
   "source": [
    "bootstrap = [True, False]"
   ]
  },
  {
   "cell_type": "code",
   "execution_count": 123,
   "id": "93e21924",
   "metadata": {},
   "outputs": [
    {
     "name": "stdout",
     "output_type": "stream",
     "text": [
      "{'n_estimators': [5, 6, 7, 8, 9, 10, 11, 12, 13, 15], 'max_features': ['auto', 'log2'], 'max_depth': [5, 10, None], 'bootstrap': [True, False]}\n"
     ]
    }
   ],
   "source": [
    "random_grid = {'n_estimators': n_estimators,\n",
    "\n",
    "               'max_features': max_features,\n",
    "\n",
    "               'max_depth': max_depth,\n",
    "\n",
    "               'bootstrap': bootstrap}\n",
    "\n",
    "print(random_grid)"
   ]
  },
  {
   "cell_type": "code",
   "execution_count": 125,
   "id": "d374556f",
   "metadata": {},
   "outputs": [
    {
     "name": "stdout",
     "output_type": "stream",
     "text": [
      "Fitting 3 folds for each of 20 candidates, totalling 60 fits\n"
     ]
    },
    {
     "data": {
      "text/plain": [
       "RandomizedSearchCV(cv=3, estimator=RandomForestRegressor(random_state=1),\n",
       "                   n_iter=20, n_jobs=-1,\n",
       "                   param_distributions={'bootstrap': [True, False],\n",
       "                                        'max_depth': [5, 10, None],\n",
       "                                        'max_features': ['auto', 'log2'],\n",
       "                                        'n_estimators': [5, 6, 7, 8, 9, 10, 11,\n",
       "                                                         12, 13, 15]},\n",
       "                   random_state=42, return_train_score=True,\n",
       "                   scoring='neg_mean_absolute_error', verbose=2)"
      ]
     },
     "execution_count": 125,
     "metadata": {},
     "output_type": "execute_result"
    }
   ],
   "source": [
    "rfr_random = RandomizedSearchCV(estimator=rfr, param_distributions=r_grid, n_iter = 20, scoring='neg_mean_absolute_error', cv = 3, verbose=2, random_state=42, n_jobs=-1, return_train_score=True)\n",
    "\n",
    "rfr_random.fit(X_train, y_train)"
   ]
  },
  {
   "cell_type": "code",
   "execution_count": 127,
   "id": "6298eafb",
   "metadata": {},
   "outputs": [
    {
     "name": "stdout",
     "output_type": "stream",
     "text": [
      "{'n_estimators': 15, 'max_features': 'auto', 'max_depth': None, 'bootstrap': False}\n"
     ]
    }
   ],
   "source": [
    "print(rfr_random.best_params_)"
   ]
  },
  {
   "cell_type": "code",
   "execution_count": 129,
   "id": "8c3ab09d",
   "metadata": {},
   "outputs": [
    {
     "name": "stdout",
     "output_type": "stream",
     "text": [
      "-5537.18549894917\n"
     ]
    }
   ],
   "source": [
    "print(rfr_random.score(X_val , y_val))"
   ]
  },
  {
   "cell_type": "code",
   "execution_count": 130,
   "id": "aec37e60",
   "metadata": {},
   "outputs": [],
   "source": [
    "rfr_hyper_tuned = rfr_random.best_estimator_"
   ]
  },
  {
   "cell_type": "code",
   "execution_count": 132,
   "id": "d4325eac",
   "metadata": {},
   "outputs": [],
   "source": [
    "pred_rfr_tuned = rfr_hyper_tuned.predict(test_df)"
   ]
  },
  {
   "cell_type": "code",
   "execution_count": 134,
   "id": "2350cd72",
   "metadata": {},
   "outputs": [],
   "source": [
    "rfr_tuned_dict = {'Price' : pred_rfr_tuned}"
   ]
  },
  {
   "cell_type": "code",
   "execution_count": 135,
   "id": "92a17500",
   "metadata": {},
   "outputs": [],
   "source": [
    "rfr_tuned_df = pd.DataFrame.from_dict(rfr_tuned_dict)"
   ]
  },
  {
   "cell_type": "code",
   "execution_count": 137,
   "id": "1db4d761",
   "metadata": {},
   "outputs": [],
   "source": [
    "rfr_tuned_df.to_csv('Rfr_submission.csv')"
   ]
  },
  {
   "cell_type": "code",
   "execution_count": 139,
   "id": "c755cdcb",
   "metadata": {},
   "outputs": [],
   "source": [
    "from sklearn.model_selection import RandomizedSearchCV\n",
    "from sklearn.model_selection import KFold\n",
    "from sklearn.metrics import accuracy_score"
   ]
  },
  {
   "cell_type": "code",
   "execution_count": 157,
   "id": "417b562f",
   "metadata": {},
   "outputs": [],
   "source": [
    "from sklearn.metrics import mean_squared_log_error"
   ]
  },
  {
   "cell_type": "code",
   "execution_count": 161,
   "id": "1b894dcd",
   "metadata": {},
   "outputs": [
    {
     "name": "stdout",
     "output_type": "stream",
     "text": [
      "Best: -54189047878.034515 using {'subsample': 0.01, 'min_child_weight': 0.001, 'max_depth': 12, 'learning_rate': 0.3, 'gamma': 40.0, 'colsample_bytree': 1.0, 'colsample_bylevel': 1.0}\n"
     ]
    }
   ],
   "source": [
    "# grid search\n",
    "from xgboost import XGBRFRegressor\n",
    "\n",
    "model = XGBRFRegressor()\n",
    "\n",
    "param_grid = {'max_depth': [3, 4, 5, 6, 7, 8, 9, 10, 11, 12],\n",
    "              \n",
    "              'min_child_weight' : [0.0001, 0.5, 0.001],\n",
    "              \n",
    "              'gamma': [0.0,40.0,0.005],\n",
    "              \n",
    "              'learning_rate': [0.0005,0.3,0.0005],\n",
    "              \n",
    "              'subsample': [0.01,1.0,0.01],\n",
    "              \n",
    "              'colsample_bylevel': np.round(np.arange(0.1,1.0,0.01)),\n",
    "              \n",
    "              'colsample_bytree': [0.1,1.0,0.01]}\n",
    "\n",
    "kfold = KFold(n_splits=10, shuffle=True, random_state=10)\n",
    "grid_search = RandomizedSearchCV(model, param_grid, scoring='neg_mean_squared_error', n_iter = 500, cv=kfold)\n",
    "grid_result = grid_search.fit(X_train,y_train)\n",
    "\n",
    "# summarize results\n",
    "print(\"Best: %f using %s\" % (grid_result.best_score_, grid_result.best_params_))\n",
    "means = grid_result.cv_results_[ 'mean_test_score' ]\n",
    "stds = grid_result.cv_results_[ 'std_test_score' ]\n",
    "params = grid_result.cv_results_[ 'params' ]\n"
   ]
  },
  {
   "cell_type": "code",
   "execution_count": 163,
   "id": "b4cb67f5",
   "metadata": {},
   "outputs": [],
   "source": [
    "xgb_reg = grid_result.best_estimator_"
   ]
  },
  {
   "cell_type": "code",
   "execution_count": 164,
   "id": "20a31b0b",
   "metadata": {},
   "outputs": [],
   "source": [
    "y_pred_xgb = xgb_reg.predict(test_df)"
   ]
  },
  {
   "cell_type": "code",
   "execution_count": 165,
   "id": "6e5cff9e",
   "metadata": {},
   "outputs": [],
   "source": [
    " dic_xgb = {'Price' : y_pred_xgb}"
   ]
  },
  {
   "cell_type": "code",
   "execution_count": 166,
   "id": "76df9a00",
   "metadata": {},
   "outputs": [],
   "source": [
    "xgb_df = pd.DataFrame.from_dict(dic_xgb)"
   ]
  },
  {
   "cell_type": "code",
   "execution_count": 167,
   "id": "bebd7486",
   "metadata": {},
   "outputs": [],
   "source": [
    "xgb_df.to_csv('xgb_submiission.csv')"
   ]
  },
  {
   "cell_type": "code",
   "execution_count": null,
   "id": "5f0707c6",
   "metadata": {},
   "outputs": [],
   "source": []
  }
 ],
 "metadata": {
  "kernelspec": {
   "display_name": "Python 3",
   "language": "python",
   "name": "python3"
  },
  "language_info": {
   "codemirror_mode": {
    "name": "ipython",
    "version": 3
   },
   "file_extension": ".py",
   "mimetype": "text/x-python",
   "name": "python",
   "nbconvert_exporter": "python",
   "pygments_lexer": "ipython3",
   "version": "3.8.8"
  }
 },
 "nbformat": 4,
 "nbformat_minor": 5
}
